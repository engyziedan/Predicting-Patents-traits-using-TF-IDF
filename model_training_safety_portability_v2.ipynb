{
 "cells": [
  {
   "cell_type": "code",
   "execution_count": 1,
   "id": "d872a9ca-f993-461b-ada4-07f5ab7fd0ba",
   "metadata": {},
   "outputs": [],
   "source": [
    "import pandas as pd\n",
    "import numpy as np\n",
    "import seaborn as sb\n",
    "import re\n",
    " \n",
    "import joblib\n",
    "import matplotlib.pyplot as plt\n",
    "from sklearn.metrics import plot_confusion_matrix\n",
    "from sklearn.metrics import precision_recall_fscore_support\n",
    "from sklearn.model_selection import train_test_split\n",
    "from sklearn.ensemble import RandomForestClassifier\n",
    "from sklearn.metrics import ConfusionMatrixDisplay\n",
    "\n",
    "\n",
    "import warnings\n",
    "warnings.filterwarnings('ignore')\n",
    "pd.set_option('display.max_columns', 500)\n",
    "pd.set_option('display.max_rows', 500)"
   ]
  },
  {
   "cell_type": "code",
   "execution_count": 2,
   "id": "65bd75ac-e935-4e65-998c-0d600c468b6d",
   "metadata": {},
   "outputs": [],
   "source": [
    "def first_cleaning(text):\n",
    "    try:\n",
    "        text = text.replace('/', ' ')\n",
    "        text = text.replace('-', '_') \n",
    "        text = re.sub(r\"(\\:|\\(|\\)|\\,|\\*|\\#|\\?|=|\\[|\\]|\\s\\d\\s)+\", \" \", text) # remove all special characters around\n",
    "        text = re.sub(r\"(\\((\\d+)+(\\.\\)|\\)|))\", \" \", text) # remove all the numbers in brackets\n",
    "        text = re.sub(r\"(\\([a-zA-Z]{1,3})\\)\",\" \",text) # remove all text in brackets in 1-3 chars\n",
    "        text = re.sub(r\"([0-9]+[.,%]+)+\",\"_value_ \",text) # remove all text in brackets in 1-3 chars   \n",
    "        text = re.sub(r\"(?=[^a-z]{1,}[.])(?:[a-zA-Z]|[=*,().-]|[0-9])+\",\" _formula_ \",text, re.M) # remove all text in brackets in 1-3 chars   \n",
    "        text.replace('  ', ' ')\n",
    "        return text.strip()\n",
    "    except Exception as e:\n",
    "        return ''"
   ]
  },
  {
   "cell_type": "markdown",
   "id": "c2ce6eaf-ee90-46de-aa53-633b9f9b0249",
   "metadata": {},
   "source": [
    "Load clean patent data + relevance data"
   ]
  },
  {
   "cell_type": "code",
   "execution_count": 3,
   "id": "467d0acc-1d8d-48e8-9a2e-d3a14c657df4",
   "metadata": {},
   "outputs": [
    {
     "name": "stdout",
     "output_type": "stream",
     "text": [
      "(85536, 15)\n",
      "(6578, 15)\n"
     ]
    }
   ],
   "source": [
    "data_df = pd.read_excel('./data/predictions_v2.xlsx')\n",
    "data_df.pat_num = data_df.pat_num.astype(str)\n",
    "data_df['clean_abstract'].fillna('', inplace=True)\n",
    "data_df['clean_descritpion'].fillna('', inplace=True)\n",
    "data_df['clean_claims'] = data_df['claims'].astype(str).apply(lambda x: first_cleaning(x[:6000]) if x else '') #Only bring first 6000 characters (~500-600 words)\n",
    "\n",
    "# Concatenating abstract + description data\n",
    "data_df['abs_plus_desc'] = data_df['clean_abstract'] + data_df['clean_descritpion']\n",
    "data_df['abs_plus_desc_plus_claims'] = data_df['clean_abstract'] + data_df['clean_descritpion'] + data_df['clean_claims']\n",
    "data_df.head()\n",
    "print(data_df.shape)\n",
    "data_df = data_df[data_df['relevance_model_predictions']==1]\n",
    "print(data_df.shape)\n",
    "\n",
    "\n"
   ]
  },
  {
   "cell_type": "markdown",
   "id": "8733b994-87fc-40bc-8742-b1ba4572a548",
   "metadata": {},
   "source": [
    "Merge patent details into <b> new relevance data </b> to create training dataset"
   ]
  },
  {
   "cell_type": "code",
   "execution_count": 4,
   "id": "910090d9-f9d7-4e48-9b31-f28b4b236dc4",
   "metadata": {},
   "outputs": [
    {
     "data": {
      "text/html": [
       "<div>\n",
       "<style scoped>\n",
       "    .dataframe tbody tr th:only-of-type {\n",
       "        vertical-align: middle;\n",
       "    }\n",
       "\n",
       "    .dataframe tbody tr th {\n",
       "        vertical-align: top;\n",
       "    }\n",
       "\n",
       "    .dataframe thead th {\n",
       "        text-align: right;\n",
       "    }\n",
       "</style>\n",
       "<table border=\"1\" class=\"dataframe\">\n",
       "  <thead>\n",
       "    <tr style=\"text-align: right;\">\n",
       "      <th></th>\n",
       "      <th>pat_num</th>\n",
       "      <th>portability</th>\n",
       "      <th>safety</th>\n",
       "      <th>neither portability nor saftey</th>\n",
       "    </tr>\n",
       "  </thead>\n",
       "  <tbody>\n",
       "    <tr>\n",
       "      <th>0</th>\n",
       "      <td>10016554</td>\n",
       "      <td>1.0</td>\n",
       "      <td>1.0</td>\n",
       "      <td>0.0</td>\n",
       "    </tr>\n",
       "    <tr>\n",
       "      <th>1</th>\n",
       "      <td>10022485</td>\n",
       "      <td>0.0</td>\n",
       "      <td>1.0</td>\n",
       "      <td>0.0</td>\n",
       "    </tr>\n",
       "    <tr>\n",
       "      <th>2</th>\n",
       "      <td>10039560</td>\n",
       "      <td>0.0</td>\n",
       "      <td>0.0</td>\n",
       "      <td>1.0</td>\n",
       "    </tr>\n",
       "    <tr>\n",
       "      <th>3</th>\n",
       "      <td>10039900</td>\n",
       "      <td>0.0</td>\n",
       "      <td>0.0</td>\n",
       "      <td>1.0</td>\n",
       "    </tr>\n",
       "    <tr>\n",
       "      <th>4</th>\n",
       "      <td>10076653</td>\n",
       "      <td>0.0</td>\n",
       "      <td>0.0</td>\n",
       "      <td>1.0</td>\n",
       "    </tr>\n",
       "  </tbody>\n",
       "</table>\n",
       "</div>"
      ],
      "text/plain": [
       "    pat_num  portability  safety  neither portability nor saftey\n",
       "0  10016554          1.0     1.0                             0.0\n",
       "1  10022485          0.0     1.0                             0.0\n",
       "2  10039560          0.0     0.0                             1.0\n",
       "3  10039900          0.0     0.0                             1.0\n",
       "4  10076653          0.0     0.0                             1.0"
      ]
     },
     "execution_count": 4,
     "metadata": {},
     "output_type": "execute_result"
    }
   ],
   "source": [
    "class_df = pd.read_csv('./data/patents_checkedagain_portability_safety_dialysis1-15-2023.csv').fillna(0)\n",
    "class_df.pat_num = class_df.pat_num.astype(str)\n",
    "class_df = class_df[['pat_num','portability','safety','neither portability nor saftey']]\n",
    "class_df.head()"
   ]
  },
  {
   "cell_type": "code",
   "execution_count": 5,
   "id": "b6f0acab-d23b-45ec-9192-4781daba8be3",
   "metadata": {},
   "outputs": [
    {
     "data": {
      "text/plain": [
       "portability                         0.0\n",
       "safety                              0.0\n",
       "neither portability nor saftey    252.0\n",
       "dtype: float64"
      ]
     },
     "execution_count": 5,
     "metadata": {},
     "output_type": "execute_result"
    }
   ],
   "source": [
    "check_cols = ['portability', 'safety', 'neither portability nor saftey']\n",
    "# Check that the 'neither' class is disjoint with the other two classes\n",
    "class_df[class_df['neither portability nor saftey']==1][check_cols].sum()"
   ]
  },
  {
   "cell_type": "code",
   "execution_count": 6,
   "id": "4f95e4fb-c9d3-4716-9774-4d9950366fb3",
   "metadata": {},
   "outputs": [
    {
     "data": {
      "text/plain": [
       "portability                       155.0\n",
       "safety                            181.0\n",
       "neither portability nor saftey      0.0\n",
       "dtype: float64"
      ]
     },
     "execution_count": 6,
     "metadata": {},
     "output_type": "execute_result"
    }
   ],
   "source": [
    "class_df[class_df['neither portability nor saftey']==0][check_cols].sum()"
   ]
  },
  {
   "cell_type": "code",
   "execution_count": 7,
   "id": "04e49f52-e5c8-4a60-a2c7-a1c1ba05a5a7",
   "metadata": {},
   "outputs": [
    {
     "data": {
      "text/plain": [
       "portability                       155.0\n",
       "safety                             58.0\n",
       "neither portability nor saftey      0.0\n",
       "dtype: float64"
      ]
     },
     "execution_count": 7,
     "metadata": {},
     "output_type": "execute_result"
    }
   ],
   "source": [
    "#Check class overlap\n",
    "class_df[class_df['portability']==1][check_cols].sum()"
   ]
  },
  {
   "cell_type": "code",
   "execution_count": 8,
   "id": "745104c2-77bf-4d62-8e39-6ca8f8b73cdd",
   "metadata": {},
   "outputs": [
    {
     "data": {
      "text/plain": [
       "portability                        58.0\n",
       "safety                            181.0\n",
       "neither portability nor saftey      0.0\n",
       "dtype: float64"
      ]
     },
     "execution_count": 8,
     "metadata": {},
     "output_type": "execute_result"
    }
   ],
   "source": [
    "class_df[class_df['safety']==1][check_cols].sum()"
   ]
  },
  {
   "cell_type": "code",
   "execution_count": 9,
   "id": "bed792ed-476a-40e7-bd35-ad38919b1c7d",
   "metadata": {},
   "outputs": [
    {
     "data": {
      "text/html": [
       "<div>\n",
       "<style scoped>\n",
       "    .dataframe tbody tr th:only-of-type {\n",
       "        vertical-align: middle;\n",
       "    }\n",
       "\n",
       "    .dataframe tbody tr th {\n",
       "        vertical-align: top;\n",
       "    }\n",
       "\n",
       "    .dataframe thead th {\n",
       "        text-align: right;\n",
       "    }\n",
       "</style>\n",
       "<table border=\"1\" class=\"dataframe\">\n",
       "  <thead>\n",
       "    <tr style=\"text-align: right;\">\n",
       "      <th></th>\n",
       "      <th>portability</th>\n",
       "      <th>safety</th>\n",
       "      <th>neither portability nor saftey</th>\n",
       "    </tr>\n",
       "  </thead>\n",
       "  <tbody>\n",
       "    <tr>\n",
       "      <th>count</th>\n",
       "      <td>532.0</td>\n",
       "      <td>532.0</td>\n",
       "      <td>532.0</td>\n",
       "    </tr>\n",
       "    <tr>\n",
       "      <th>mean</th>\n",
       "      <td>0.3</td>\n",
       "      <td>0.3</td>\n",
       "      <td>0.5</td>\n",
       "    </tr>\n",
       "    <tr>\n",
       "      <th>std</th>\n",
       "      <td>0.5</td>\n",
       "      <td>0.5</td>\n",
       "      <td>0.5</td>\n",
       "    </tr>\n",
       "    <tr>\n",
       "      <th>min</th>\n",
       "      <td>0.0</td>\n",
       "      <td>0.0</td>\n",
       "      <td>0.0</td>\n",
       "    </tr>\n",
       "    <tr>\n",
       "      <th>25%</th>\n",
       "      <td>0.0</td>\n",
       "      <td>0.0</td>\n",
       "      <td>0.0</td>\n",
       "    </tr>\n",
       "    <tr>\n",
       "      <th>50%</th>\n",
       "      <td>0.0</td>\n",
       "      <td>0.0</td>\n",
       "      <td>0.0</td>\n",
       "    </tr>\n",
       "    <tr>\n",
       "      <th>75%</th>\n",
       "      <td>1.0</td>\n",
       "      <td>1.0</td>\n",
       "      <td>1.0</td>\n",
       "    </tr>\n",
       "    <tr>\n",
       "      <th>max</th>\n",
       "      <td>1.0</td>\n",
       "      <td>1.0</td>\n",
       "      <td>1.0</td>\n",
       "    </tr>\n",
       "  </tbody>\n",
       "</table>\n",
       "</div>"
      ],
      "text/plain": [
       "       portability  safety  neither portability nor saftey\n",
       "count        532.0   532.0                           532.0\n",
       "mean           0.3     0.3                             0.5\n",
       "std            0.5     0.5                             0.5\n",
       "min            0.0     0.0                             0.0\n",
       "25%            0.0     0.0                             0.0\n",
       "50%            0.0     0.0                             0.0\n",
       "75%            1.0     1.0                             1.0\n",
       "max            1.0     1.0                             1.0"
      ]
     },
     "execution_count": 9,
     "metadata": {},
     "output_type": "execute_result"
    }
   ],
   "source": [
    "class_df.describe().round(1)"
   ]
  },
  {
   "cell_type": "code",
   "execution_count": 10,
   "id": "7860c4f2-ca3f-4810-b44d-5fb591f69cc5",
   "metadata": {},
   "outputs": [
    {
     "name": "stdout",
     "output_type": "stream",
     "text": [
      "(6578, 15)\n",
      "(532, 4)\n"
     ]
    }
   ],
   "source": [
    "print(data_df.shape)\n",
    "print(class_df.shape)"
   ]
  },
  {
   "cell_type": "code",
   "execution_count": 11,
   "id": "2d56b67b-dade-44d3-8c9a-8378b95ff488",
   "metadata": {},
   "outputs": [
    {
     "data": {
      "text/plain": [
       "(513, 18)"
      ]
     },
     "execution_count": 11,
     "metadata": {},
     "output_type": "execute_result"
    }
   ],
   "source": [
    "training_df = data_df.merge(class_df, how='inner', on='pat_num')\n",
    "training_df.shape"
   ]
  },
  {
   "cell_type": "code",
   "execution_count": 12,
   "id": "c06d8476-c2ba-46f3-b0be-d67dc43c2be9",
   "metadata": {},
   "outputs": [
    {
     "data": {
      "text/plain": [
       "Index(['pat_num', 'pat_name', 'filed_date', 'inventors', 'assignee',\n",
       "       'us_class', 'cpc_class', 'cited_patents', 'clean_abstract',\n",
       "       'clean_descritpion', 'claims', 'relevance_model_predictions',\n",
       "       'clean_claims', 'abs_plus_desc', 'abs_plus_desc_plus_claims',\n",
       "       'portability', 'safety', 'neither portability nor saftey'],\n",
       "      dtype='object')"
      ]
     },
     "execution_count": 12,
     "metadata": {},
     "output_type": "execute_result"
    }
   ],
   "source": [
    "training_df.columns"
   ]
  },
  {
   "cell_type": "code",
   "execution_count": 13,
   "id": "bf17b943-d5f2-45e8-88b7-993ebece30a0",
   "metadata": {},
   "outputs": [],
   "source": [
    "cols = ['pat_num', 'pat_name', 'filed_date', 'us_class', 'cpc_class',\n",
    "       'abs_plus_desc', 'portability', 'safety', 'neither portability nor saftey']"
   ]
  },
  {
   "cell_type": "code",
   "execution_count": 14,
   "id": "ffdb7829-e3e0-4941-8dd4-48af3fa8e718",
   "metadata": {},
   "outputs": [
    {
     "data": {
      "text/html": [
       "<div>\n",
       "<style scoped>\n",
       "    .dataframe tbody tr th:only-of-type {\n",
       "        vertical-align: middle;\n",
       "    }\n",
       "\n",
       "    .dataframe tbody tr th {\n",
       "        vertical-align: top;\n",
       "    }\n",
       "\n",
       "    .dataframe thead th {\n",
       "        text-align: right;\n",
       "    }\n",
       "</style>\n",
       "<table border=\"1\" class=\"dataframe\">\n",
       "  <thead>\n",
       "    <tr style=\"text-align: right;\">\n",
       "      <th></th>\n",
       "      <th>pat_num</th>\n",
       "      <th>pat_name</th>\n",
       "      <th>filed_date</th>\n",
       "      <th>us_class</th>\n",
       "      <th>cpc_class</th>\n",
       "      <th>abs_plus_desc</th>\n",
       "      <th>portability</th>\n",
       "      <th>safety</th>\n",
       "      <th>neither portability nor saftey</th>\n",
       "    </tr>\n",
       "  </thead>\n",
       "  <tbody>\n",
       "    <tr>\n",
       "      <th>0</th>\n",
       "      <td>3996141</td>\n",
       "      <td>Dialysis membrane</td>\n",
       "      <td>1974-01-17</td>\n",
       "      <td>210/501</td>\n",
       "      <td>A61M 1/1698 (20130101); B01D 61/30 (20130101);...</td>\n",
       "      <td>A semi_permeable membrane containing a catalys...</td>\n",
       "      <td>0.0</td>\n",
       "      <td>0.0</td>\n",
       "      <td>1.0</td>\n",
       "    </tr>\n",
       "    <tr>\n",
       "      <th>1</th>\n",
       "      <td>3962075</td>\n",
       "      <td>Hemo dialyzer employing two dialysate solutions</td>\n",
       "      <td>1974-04-16</td>\n",
       "      <td>210/641</td>\n",
       "      <td>A61M 1/16 (20130101); B01D 61/243 (20130101); ...</td>\n",
       "      <td>A novel dialysis system is disclosed for both ...</td>\n",
       "      <td>0.0</td>\n",
       "      <td>0.0</td>\n",
       "      <td>1.0</td>\n",
       "    </tr>\n",
       "    <tr>\n",
       "      <th>2</th>\n",
       "      <td>4024059</td>\n",
       "      <td>Artificial kidney</td>\n",
       "      <td>1975-04-22</td>\n",
       "      <td>210/195.2</td>\n",
       "      <td>A61M 1/1694 (20130101); A61M 1/3427 (20140204)...</td>\n",
       "      <td>An artificial kidney in which blood is pumped ...</td>\n",
       "      <td>0.0</td>\n",
       "      <td>0.0</td>\n",
       "      <td>1.0</td>\n",
       "    </tr>\n",
       "    <tr>\n",
       "      <th>3</th>\n",
       "      <td>4087185</td>\n",
       "      <td>Blood leak detector</td>\n",
       "      <td>1975-06-19</td>\n",
       "      <td>356/440</td>\n",
       "      <td>A61M 1/1692 (20130101); G01N 21/85 (20130101)</td>\n",
       "      <td>A detector of blood in dialyzing solution  whi...</td>\n",
       "      <td>0.0</td>\n",
       "      <td>1.0</td>\n",
       "      <td>0.0</td>\n",
       "    </tr>\n",
       "    <tr>\n",
       "      <th>4</th>\n",
       "      <td>4021341</td>\n",
       "      <td>Hemodialysis ultrafiltration system</td>\n",
       "      <td>1975-10-15</td>\n",
       "      <td>210/87</td>\n",
       "      <td>A61M 1/16 (20130101); B01D 61/145 (20130101); ...</td>\n",
       "      <td>An improved hemodialysis ultrafiltration syste...</td>\n",
       "      <td>0.0</td>\n",
       "      <td>1.0</td>\n",
       "      <td>0.0</td>\n",
       "    </tr>\n",
       "  </tbody>\n",
       "</table>\n",
       "</div>"
      ],
      "text/plain": [
       "   pat_num                                         pat_name  filed_date  \\\n",
       "0  3996141                                Dialysis membrane  1974-01-17   \n",
       "1  3962075  Hemo dialyzer employing two dialysate solutions  1974-04-16   \n",
       "2  4024059                                Artificial kidney  1975-04-22   \n",
       "3  4087185                              Blood leak detector  1975-06-19   \n",
       "4  4021341              Hemodialysis ultrafiltration system  1975-10-15   \n",
       "\n",
       "    us_class                                          cpc_class  \\\n",
       "0    210/501  A61M 1/1698 (20130101); B01D 61/30 (20130101);...   \n",
       "1    210/641  A61M 1/16 (20130101); B01D 61/243 (20130101); ...   \n",
       "2  210/195.2  A61M 1/1694 (20130101); A61M 1/3427 (20140204)...   \n",
       "3    356/440      A61M 1/1692 (20130101); G01N 21/85 (20130101)   \n",
       "4     210/87  A61M 1/16 (20130101); B01D 61/145 (20130101); ...   \n",
       "\n",
       "                                       abs_plus_desc  portability  safety  \\\n",
       "0  A semi_permeable membrane containing a catalys...          0.0     0.0   \n",
       "1  A novel dialysis system is disclosed for both ...          0.0     0.0   \n",
       "2  An artificial kidney in which blood is pumped ...          0.0     0.0   \n",
       "3  A detector of blood in dialyzing solution  whi...          0.0     1.0   \n",
       "4  An improved hemodialysis ultrafiltration syste...          0.0     1.0   \n",
       "\n",
       "   neither portability nor saftey  \n",
       "0                             1.0  \n",
       "1                             1.0  \n",
       "2                             1.0  \n",
       "3                             0.0  \n",
       "4                             0.0  "
      ]
     },
     "execution_count": 14,
     "metadata": {},
     "output_type": "execute_result"
    }
   ],
   "source": [
    "training_df[cols].head()"
   ]
  },
  {
   "cell_type": "markdown",
   "id": "944d9138-98fe-4dd3-bec7-d8fe8fb9a881",
   "metadata": {},
   "source": [
    "Generate TF-IDF embeddings <b> on patent abstract + description </b>"
   ]
  },
  {
   "cell_type": "code",
   "execution_count": 36,
   "id": "15a2b4cb-692f-4291-a580-d47f50bc637c",
   "metadata": {},
   "outputs": [
    {
     "data": {
      "text/html": [
       "<style>#sk-container-id-2 {color: black;background-color: white;}#sk-container-id-2 pre{padding: 0;}#sk-container-id-2 div.sk-toggleable {background-color: white;}#sk-container-id-2 label.sk-toggleable__label {cursor: pointer;display: block;width: 100%;margin-bottom: 0;padding: 0.3em;box-sizing: border-box;text-align: center;}#sk-container-id-2 label.sk-toggleable__label-arrow:before {content: \"▸\";float: left;margin-right: 0.25em;color: #696969;}#sk-container-id-2 label.sk-toggleable__label-arrow:hover:before {color: black;}#sk-container-id-2 div.sk-estimator:hover label.sk-toggleable__label-arrow:before {color: black;}#sk-container-id-2 div.sk-toggleable__content {max-height: 0;max-width: 0;overflow: hidden;text-align: left;background-color: #f0f8ff;}#sk-container-id-2 div.sk-toggleable__content pre {margin: 0.2em;color: black;border-radius: 0.25em;background-color: #f0f8ff;}#sk-container-id-2 input.sk-toggleable__control:checked~div.sk-toggleable__content {max-height: 200px;max-width: 100%;overflow: auto;}#sk-container-id-2 input.sk-toggleable__control:checked~label.sk-toggleable__label-arrow:before {content: \"▾\";}#sk-container-id-2 div.sk-estimator input.sk-toggleable__control:checked~label.sk-toggleable__label {background-color: #d4ebff;}#sk-container-id-2 div.sk-label input.sk-toggleable__control:checked~label.sk-toggleable__label {background-color: #d4ebff;}#sk-container-id-2 input.sk-hidden--visually {border: 0;clip: rect(1px 1px 1px 1px);clip: rect(1px, 1px, 1px, 1px);height: 1px;margin: -1px;overflow: hidden;padding: 0;position: absolute;width: 1px;}#sk-container-id-2 div.sk-estimator {font-family: monospace;background-color: #f0f8ff;border: 1px dotted black;border-radius: 0.25em;box-sizing: border-box;margin-bottom: 0.5em;}#sk-container-id-2 div.sk-estimator:hover {background-color: #d4ebff;}#sk-container-id-2 div.sk-parallel-item::after {content: \"\";width: 100%;border-bottom: 1px solid gray;flex-grow: 1;}#sk-container-id-2 div.sk-label:hover label.sk-toggleable__label {background-color: #d4ebff;}#sk-container-id-2 div.sk-serial::before {content: \"\";position: absolute;border-left: 1px solid gray;box-sizing: border-box;top: 0;bottom: 0;left: 50%;z-index: 0;}#sk-container-id-2 div.sk-serial {display: flex;flex-direction: column;align-items: center;background-color: white;padding-right: 0.2em;padding-left: 0.2em;position: relative;}#sk-container-id-2 div.sk-item {position: relative;z-index: 1;}#sk-container-id-2 div.sk-parallel {display: flex;align-items: stretch;justify-content: center;background-color: white;position: relative;}#sk-container-id-2 div.sk-item::before, #sk-container-id-2 div.sk-parallel-item::before {content: \"\";position: absolute;border-left: 1px solid gray;box-sizing: border-box;top: 0;bottom: 0;left: 50%;z-index: -1;}#sk-container-id-2 div.sk-parallel-item {display: flex;flex-direction: column;z-index: 1;position: relative;background-color: white;}#sk-container-id-2 div.sk-parallel-item:first-child::after {align-self: flex-end;width: 50%;}#sk-container-id-2 div.sk-parallel-item:last-child::after {align-self: flex-start;width: 50%;}#sk-container-id-2 div.sk-parallel-item:only-child::after {width: 0;}#sk-container-id-2 div.sk-dashed-wrapped {border: 1px dashed gray;margin: 0 0.4em 0.5em 0.4em;box-sizing: border-box;padding-bottom: 0.4em;background-color: white;}#sk-container-id-2 div.sk-label label {font-family: monospace;font-weight: bold;display: inline-block;line-height: 1.2em;}#sk-container-id-2 div.sk-label-container {text-align: center;}#sk-container-id-2 div.sk-container {/* jupyter's `normalize.less` sets `[hidden] { display: none; }` but bootstrap.min.css set `[hidden] { display: none !important; }` so we also need the `!important` here to be able to override the default hidden behavior on the sphinx rendered scikit-learn.org. See: https://github.com/scikit-learn/scikit-learn/issues/21755 */display: inline-block !important;position: relative;}#sk-container-id-2 div.sk-text-repr-fallback {display: none;}</style><div id=\"sk-container-id-2\" class=\"sk-top-container\"><div class=\"sk-text-repr-fallback\"><pre>TfidfVectorizer(max_df=0.95, min_df=5,\n",
       "                stop_words=frozenset({&#x27;a&#x27;, &#x27;about&#x27;, &#x27;above&#x27;, &#x27;across&#x27;, &#x27;after&#x27;,\n",
       "                                      &#x27;afterwards&#x27;, &#x27;again&#x27;, &#x27;against&#x27;, &#x27;all&#x27;,\n",
       "                                      &#x27;almost&#x27;, &#x27;alone&#x27;, &#x27;along&#x27;, &#x27;already&#x27;,\n",
       "                                      &#x27;also&#x27;, &#x27;although&#x27;, &#x27;always&#x27;, &#x27;am&#x27;,\n",
       "                                      &#x27;among&#x27;, &#x27;amongst&#x27;, &#x27;amoungst&#x27;, &#x27;amount&#x27;,\n",
       "                                      &#x27;an&#x27;, &#x27;and&#x27;, &#x27;another&#x27;, &#x27;any&#x27;, &#x27;anyhow&#x27;,\n",
       "                                      &#x27;anyone&#x27;, &#x27;anything&#x27;, &#x27;anyway&#x27;,\n",
       "                                      &#x27;anywhere&#x27;, ...}))</pre><b>In a Jupyter environment, please rerun this cell to show the HTML representation or trust the notebook. <br />On GitHub, the HTML representation is unable to render, please try loading this page with nbviewer.org.</b></div><div class=\"sk-container\" hidden><div class=\"sk-item\"><div class=\"sk-estimator sk-toggleable\"><input class=\"sk-toggleable__control sk-hidden--visually\" id=\"sk-estimator-id-2\" type=\"checkbox\" checked><label for=\"sk-estimator-id-2\" class=\"sk-toggleable__label sk-toggleable__label-arrow\">TfidfVectorizer</label><div class=\"sk-toggleable__content\"><pre>TfidfVectorizer(max_df=0.95, min_df=5,\n",
       "                stop_words=frozenset({&#x27;a&#x27;, &#x27;about&#x27;, &#x27;above&#x27;, &#x27;across&#x27;, &#x27;after&#x27;,\n",
       "                                      &#x27;afterwards&#x27;, &#x27;again&#x27;, &#x27;against&#x27;, &#x27;all&#x27;,\n",
       "                                      &#x27;almost&#x27;, &#x27;alone&#x27;, &#x27;along&#x27;, &#x27;already&#x27;,\n",
       "                                      &#x27;also&#x27;, &#x27;although&#x27;, &#x27;always&#x27;, &#x27;am&#x27;,\n",
       "                                      &#x27;among&#x27;, &#x27;amongst&#x27;, &#x27;amoungst&#x27;, &#x27;amount&#x27;,\n",
       "                                      &#x27;an&#x27;, &#x27;and&#x27;, &#x27;another&#x27;, &#x27;any&#x27;, &#x27;anyhow&#x27;,\n",
       "                                      &#x27;anyone&#x27;, &#x27;anything&#x27;, &#x27;anyway&#x27;,\n",
       "                                      &#x27;anywhere&#x27;, ...}))</pre></div></div></div></div></div>"
      ],
      "text/plain": [
       "TfidfVectorizer(max_df=0.95, min_df=5,\n",
       "                stop_words=frozenset({'a', 'about', 'above', 'across', 'after',\n",
       "                                      'afterwards', 'again', 'against', 'all',\n",
       "                                      'almost', 'alone', 'along', 'already',\n",
       "                                      'also', 'although', 'always', 'am',\n",
       "                                      'among', 'amongst', 'amoungst', 'amount',\n",
       "                                      'an', 'and', 'another', 'any', 'anyhow',\n",
       "                                      'anyone', 'anything', 'anyway',\n",
       "                                      'anywhere', ...}))"
      ]
     },
     "execution_count": 36,
     "metadata": {},
     "output_type": "execute_result"
    }
   ],
   "source": [
    "import gensim\n",
    "from sklearn.feature_extraction.text import TfidfVectorizer\n",
    "full_corpus = data_df['abs_plus_desc'].values\n",
    "training_corpus = training_df['abs_plus_desc'].values\n",
    "vectorizer = TfidfVectorizer(\n",
    "    lowercase=True,\n",
    "    min_df = 5,\n",
    "    max_df = .95,\n",
    "    stop_words=gensim.parsing.preprocessing.STOPWORDS\n",
    ")\n",
    "vectorizer.fit(full_corpus)"
   ]
  },
  {
   "cell_type": "code",
   "execution_count": 61,
   "id": "98e8dbf0-5e85-4e73-b38a-d7a140fdfbea",
   "metadata": {},
   "outputs": [
    {
     "data": {
      "text/plain": [
       "15027"
      ]
     },
     "execution_count": 61,
     "metadata": {},
     "output_type": "execute_result"
    }
   ],
   "source": [
    "len(vectorizer.vocabulary_.keys())"
   ]
  },
  {
   "cell_type": "markdown",
   "id": "6e1c19ad-3f12-49b7-b1ff-8a0625b8d70d",
   "metadata": {},
   "source": [
    "Train Boosted Trees Model"
   ]
  },
  {
   "cell_type": "code",
   "execution_count": 44,
   "id": "7269a23b-c35f-4031-b6d4-8b9d8bd5a53e",
   "metadata": {},
   "outputs": [],
   "source": [
    "def train_model(X_train, X_val, y_train, y_val, verbosity=0):\n",
    "    dtrain = xgb.DMatrix(X_train, y_train)\n",
    "    dval = xgb.DMatrix(X_val, y_val)\n",
    "    \n",
    "    num_round = 1000\n",
    "    param = {\n",
    "        'max_depth': 6, \n",
    "        'eta': 0.02, \n",
    "        'objective': 'binary:logistic',\n",
    "        'verbosity': 1,\n",
    "        'nthread': -1, \n",
    "        'eval_metric': ['logloss'],\n",
    "        'scale_pos_weight': 3\n",
    "    }\n",
    "\n",
    "    evallist = [(dval, 'eval')]\n",
    "    watchlist = [(dtrain,'train'), (dval,'eval')]\n",
    "    evals_result = {}\n",
    "    bst = xgb.train(param, dtrain, num_round, watchlist, evals_result=evals_result,  early_stopping_rounds=15)    \n",
    "    return bst"
   ]
  },
  {
   "cell_type": "code",
   "execution_count": 17,
   "id": "b73a5057-3f43-466f-a1af-b8ad9835b222",
   "metadata": {},
   "outputs": [],
   "source": [
    "def plot_performance_at_t(y_true, y_pred, t_steps=10):\n",
    "    for t in range(10,90,int(80/t_steps)):\n",
    "        treshold = t/100\n",
    "        print(treshold)\n",
    "        y_pred_at_t = [1 if y>=treshold else 0 for y in y_pred]\n",
    "        print(precision_recall_fscore_support(y_true, y_pred_at_t, average='binary'))\n",
    "\n",
    "        ConfusionMatrixDisplay.from_predictions(y_true, y_pred_at_t)\n",
    "        plt.show()"
   ]
  },
  {
   "cell_type": "code",
   "execution_count": 40,
   "id": "b130d1ca-35e4-479c-b2a0-798bd3680783",
   "metadata": {},
   "outputs": [],
   "source": [
    "import xgboost as xgb\n",
    "\n",
    "X = vectorizer.transform(training_df['abs_plus_desc']).toarray()\n",
    "y = training_df['portability']\n",
    "\n",
    "X_train, X_test, y_train, y_test = train_test_split(\n",
    "    X, y, test_size=0.3, random_state=42)\n",
    "\n",
    "X_test, X_val, y_test, y_val = train_test_split(\n",
    "    X_test, y_test, test_size=0.3, random_state=42)"
   ]
  },
  {
   "cell_type": "code",
   "execution_count": 41,
   "id": "9f69a717-55a0-4c4a-9a25-8f73db9ce037",
   "metadata": {},
   "outputs": [
    {
     "name": "stdout",
     "output_type": "stream",
     "text": [
      "(359, 15027)\n",
      "count    359.00000\n",
      "mean       0.29805\n",
      "std        0.45804\n",
      "min        0.00000\n",
      "25%        0.00000\n",
      "50%        0.00000\n",
      "75%        1.00000\n",
      "max        1.00000\n",
      "Name: portability, dtype: float64\n",
      "-------------\n",
      "(107, 15027)\n",
      "count    107.000000\n",
      "mean       0.271028\n",
      "std        0.446582\n",
      "min        0.000000\n",
      "25%        0.000000\n",
      "50%        0.000000\n",
      "75%        1.000000\n",
      "max        1.000000\n",
      "Name: portability, dtype: float64\n"
     ]
    }
   ],
   "source": [
    "print(X_train.shape)\n",
    "print(y_train.describe())\n",
    "print('-------------')\n",
    "print(X_test.shape)\n",
    "print(y_test.describe())"
   ]
  },
  {
   "cell_type": "code",
   "execution_count": 45,
   "id": "d0caf55a-cfee-4778-8516-b6834937d0f3",
   "metadata": {
    "collapsed": true,
    "jupyter": {
     "outputs_hidden": true
    },
    "tags": []
   },
   "outputs": [
    {
     "name": "stdout",
     "output_type": "stream",
     "text": [
      "[0]\ttrain-logloss:0.67706\teval-logloss:0.68290\n",
      "[1]\ttrain-logloss:0.66194\teval-logloss:0.67163\n",
      "[2]\ttrain-logloss:0.64736\teval-logloss:0.66116\n",
      "[3]\ttrain-logloss:0.63317\teval-logloss:0.65170\n",
      "[4]\ttrain-logloss:0.61957\teval-logloss:0.64139\n",
      "[5]\ttrain-logloss:0.60644\teval-logloss:0.63218\n",
      "[6]\ttrain-logloss:0.59363\teval-logloss:0.62421\n",
      "[7]\ttrain-logloss:0.58147\teval-logloss:0.61402\n",
      "[8]\ttrain-logloss:0.56957\teval-logloss:0.60546\n",
      "[9]\ttrain-logloss:0.55796\teval-logloss:0.59513\n",
      "[10]\ttrain-logloss:0.54679\teval-logloss:0.58722\n",
      "[11]\ttrain-logloss:0.53609\teval-logloss:0.57930\n",
      "[12]\ttrain-logloss:0.52559\teval-logloss:0.57202\n",
      "[13]\ttrain-logloss:0.51553\teval-logloss:0.56466\n",
      "[14]\ttrain-logloss:0.50564\teval-logloss:0.55841\n",
      "[15]\ttrain-logloss:0.49594\teval-logloss:0.54995\n",
      "[16]\ttrain-logloss:0.48662\teval-logloss:0.54360\n",
      "[17]\ttrain-logloss:0.47752\teval-logloss:0.53621\n",
      "[18]\ttrain-logloss:0.46861\teval-logloss:0.53135\n",
      "[19]\ttrain-logloss:0.45995\teval-logloss:0.52692\n",
      "[20]\ttrain-logloss:0.45171\teval-logloss:0.52020\n",
      "[21]\ttrain-logloss:0.44361\teval-logloss:0.51452\n",
      "[22]\ttrain-logloss:0.43554\teval-logloss:0.51078\n",
      "[23]\ttrain-logloss:0.42777\teval-logloss:0.50657\n",
      "[24]\ttrain-logloss:0.41991\teval-logloss:0.50080\n",
      "[25]\ttrain-logloss:0.41247\teval-logloss:0.49687\n",
      "[26]\ttrain-logloss:0.40505\teval-logloss:0.49261\n",
      "[27]\ttrain-logloss:0.39789\teval-logloss:0.48747\n",
      "[28]\ttrain-logloss:0.39110\teval-logloss:0.48418\n",
      "[29]\ttrain-logloss:0.38444\teval-logloss:0.47780\n",
      "[30]\ttrain-logloss:0.37783\teval-logloss:0.47338\n",
      "[31]\ttrain-logloss:0.37150\teval-logloss:0.47157\n",
      "[32]\ttrain-logloss:0.36526\teval-logloss:0.46870\n",
      "[33]\ttrain-logloss:0.35915\teval-logloss:0.46627\n",
      "[34]\ttrain-logloss:0.35251\teval-logloss:0.46059\n",
      "[35]\ttrain-logloss:0.34619\teval-logloss:0.45509\n",
      "[36]\ttrain-logloss:0.33978\teval-logloss:0.45059\n",
      "[37]\ttrain-logloss:0.33370\teval-logloss:0.44647\n",
      "[38]\ttrain-logloss:0.32762\teval-logloss:0.44208\n",
      "[39]\ttrain-logloss:0.32184\teval-logloss:0.43778\n",
      "[40]\ttrain-logloss:0.31607\teval-logloss:0.43357\n",
      "[41]\ttrain-logloss:0.31079\teval-logloss:0.42950\n",
      "[42]\ttrain-logloss:0.30565\teval-logloss:0.42562\n",
      "[43]\ttrain-logloss:0.30064\teval-logloss:0.42180\n",
      "[44]\ttrain-logloss:0.29576\teval-logloss:0.41830\n",
      "[45]\ttrain-logloss:0.29101\teval-logloss:0.41494\n",
      "[46]\ttrain-logloss:0.28584\teval-logloss:0.41056\n",
      "[47]\ttrain-logloss:0.28077\teval-logloss:0.40553\n",
      "[48]\ttrain-logloss:0.27583\teval-logloss:0.40104\n",
      "[49]\ttrain-logloss:0.27122\teval-logloss:0.39713\n",
      "[50]\ttrain-logloss:0.26651\teval-logloss:0.39231\n",
      "[51]\ttrain-logloss:0.26212\teval-logloss:0.38886\n",
      "[52]\ttrain-logloss:0.25762\teval-logloss:0.38448\n",
      "[53]\ttrain-logloss:0.25323\teval-logloss:0.38082\n",
      "[54]\ttrain-logloss:0.24894\teval-logloss:0.37665\n",
      "[55]\ttrain-logloss:0.24494\teval-logloss:0.37350\n",
      "[56]\ttrain-logloss:0.24085\teval-logloss:0.36936\n",
      "[57]\ttrain-logloss:0.23703\teval-logloss:0.36641\n",
      "[58]\ttrain-logloss:0.23311\teval-logloss:0.36242\n",
      "[59]\ttrain-logloss:0.22915\teval-logloss:0.35916\n",
      "[60]\ttrain-logloss:0.22545\teval-logloss:0.35590\n",
      "[61]\ttrain-logloss:0.22154\teval-logloss:0.35265\n",
      "[62]\ttrain-logloss:0.21794\teval-logloss:0.35015\n",
      "[63]\ttrain-logloss:0.21442\teval-logloss:0.34706\n",
      "[64]\ttrain-logloss:0.21098\teval-logloss:0.34380\n",
      "[65]\ttrain-logloss:0.20762\teval-logloss:0.34074\n",
      "[66]\ttrain-logloss:0.20435\teval-logloss:0.33886\n",
      "[67]\ttrain-logloss:0.20144\teval-logloss:0.33602\n",
      "[68]\ttrain-logloss:0.19805\teval-logloss:0.33370\n",
      "[69]\ttrain-logloss:0.19499\teval-logloss:0.33089\n",
      "[70]\ttrain-logloss:0.19198\teval-logloss:0.32886\n",
      "[71]\ttrain-logloss:0.18931\teval-logloss:0.32679\n",
      "[72]\ttrain-logloss:0.18677\teval-logloss:0.32508\n",
      "[73]\ttrain-logloss:0.18388\teval-logloss:0.32203\n",
      "[74]\ttrain-logloss:0.18145\teval-logloss:0.32024\n",
      "[75]\ttrain-logloss:0.17866\teval-logloss:0.31753\n",
      "[76]\ttrain-logloss:0.17599\teval-logloss:0.31531\n",
      "[77]\ttrain-logloss:0.17343\teval-logloss:0.31232\n",
      "[78]\ttrain-logloss:0.17114\teval-logloss:0.31022\n",
      "[79]\ttrain-logloss:0.16894\teval-logloss:0.30855\n",
      "[80]\ttrain-logloss:0.16655\teval-logloss:0.30621\n",
      "[81]\ttrain-logloss:0.16439\teval-logloss:0.30412\n",
      "[82]\ttrain-logloss:0.16232\teval-logloss:0.30273\n",
      "[83]\ttrain-logloss:0.15986\teval-logloss:0.30070\n",
      "[84]\ttrain-logloss:0.15781\teval-logloss:0.29900\n",
      "[85]\ttrain-logloss:0.15535\teval-logloss:0.29727\n",
      "[86]\ttrain-logloss:0.15344\teval-logloss:0.29547\n",
      "[87]\ttrain-logloss:0.15107\teval-logloss:0.29352\n",
      "[88]\ttrain-logloss:0.14924\teval-logloss:0.29211\n",
      "[89]\ttrain-logloss:0.14704\teval-logloss:0.29026\n",
      "[90]\ttrain-logloss:0.14520\teval-logloss:0.28855\n",
      "[91]\ttrain-logloss:0.14319\teval-logloss:0.28690\n",
      "[92]\ttrain-logloss:0.14131\teval-logloss:0.28488\n",
      "[93]\ttrain-logloss:0.13937\teval-logloss:0.28355\n",
      "[94]\ttrain-logloss:0.13731\teval-logloss:0.28194\n",
      "[95]\ttrain-logloss:0.13550\teval-logloss:0.28030\n",
      "[96]\ttrain-logloss:0.13371\teval-logloss:0.27844\n",
      "[97]\ttrain-logloss:0.13169\teval-logloss:0.27658\n",
      "[98]\ttrain-logloss:0.12993\teval-logloss:0.27559\n",
      "[99]\ttrain-logloss:0.12804\teval-logloss:0.27393\n",
      "[100]\ttrain-logloss:0.12640\teval-logloss:0.27267\n",
      "[101]\ttrain-logloss:0.12462\teval-logloss:0.27081\n",
      "[102]\ttrain-logloss:0.12304\teval-logloss:0.26966\n",
      "[103]\ttrain-logloss:0.12159\teval-logloss:0.26803\n",
      "[104]\ttrain-logloss:0.11999\teval-logloss:0.26713\n",
      "[105]\ttrain-logloss:0.11852\teval-logloss:0.26573\n",
      "[106]\ttrain-logloss:0.11698\teval-logloss:0.26493\n",
      "[107]\ttrain-logloss:0.11552\teval-logloss:0.26364\n",
      "[108]\ttrain-logloss:0.11410\teval-logloss:0.26267\n",
      "[109]\ttrain-logloss:0.11280\teval-logloss:0.26115\n",
      "[110]\ttrain-logloss:0.11122\teval-logloss:0.25975\n",
      "[111]\ttrain-logloss:0.10982\teval-logloss:0.25802\n",
      "[112]\ttrain-logloss:0.10846\teval-logloss:0.25663\n",
      "[113]\ttrain-logloss:0.10710\teval-logloss:0.25626\n",
      "[114]\ttrain-logloss:0.10574\teval-logloss:0.25507\n",
      "[115]\ttrain-logloss:0.10443\teval-logloss:0.25474\n",
      "[116]\ttrain-logloss:0.10327\teval-logloss:0.25281\n",
      "[117]\ttrain-logloss:0.10218\teval-logloss:0.25239\n",
      "[118]\ttrain-logloss:0.10093\teval-logloss:0.25081\n",
      "[119]\ttrain-logloss:0.09971\teval-logloss:0.24926\n",
      "[120]\ttrain-logloss:0.09847\teval-logloss:0.24927\n",
      "[121]\ttrain-logloss:0.09731\teval-logloss:0.24824\n",
      "[122]\ttrain-logloss:0.09632\teval-logloss:0.24782\n",
      "[123]\ttrain-logloss:0.09535\teval-logloss:0.24749\n",
      "[124]\ttrain-logloss:0.09411\teval-logloss:0.24657\n",
      "[125]\ttrain-logloss:0.09318\teval-logloss:0.24626\n",
      "[126]\ttrain-logloss:0.09205\teval-logloss:0.24573\n",
      "[127]\ttrain-logloss:0.09115\teval-logloss:0.24550\n",
      "[128]\ttrain-logloss:0.08989\teval-logloss:0.24489\n",
      "[129]\ttrain-logloss:0.08885\teval-logloss:0.24459\n",
      "[130]\ttrain-logloss:0.08790\teval-logloss:0.24279\n",
      "[131]\ttrain-logloss:0.08689\teval-logloss:0.24236\n",
      "[132]\ttrain-logloss:0.08578\teval-logloss:0.24205\n",
      "[133]\ttrain-logloss:0.08498\teval-logloss:0.24237\n",
      "[134]\ttrain-logloss:0.08398\teval-logloss:0.24119\n",
      "[135]\ttrain-logloss:0.08304\teval-logloss:0.24090\n",
      "[136]\ttrain-logloss:0.08211\teval-logloss:0.23952\n",
      "[137]\ttrain-logloss:0.08115\teval-logloss:0.23899\n",
      "[138]\ttrain-logloss:0.08030\teval-logloss:0.23818\n",
      "[139]\ttrain-logloss:0.07937\teval-logloss:0.23707\n",
      "[140]\ttrain-logloss:0.07845\teval-logloss:0.23673\n",
      "[141]\ttrain-logloss:0.07759\teval-logloss:0.23541\n",
      "[142]\ttrain-logloss:0.07691\teval-logloss:0.23501\n",
      "[143]\ttrain-logloss:0.07603\teval-logloss:0.23470\n",
      "[144]\ttrain-logloss:0.07517\teval-logloss:0.23402\n",
      "[145]\ttrain-logloss:0.07450\teval-logloss:0.23414\n",
      "[146]\ttrain-logloss:0.07366\teval-logloss:0.23414\n",
      "[147]\ttrain-logloss:0.07289\teval-logloss:0.23295\n",
      "[148]\ttrain-logloss:0.07228\teval-logloss:0.23306\n",
      "[149]\ttrain-logloss:0.07148\teval-logloss:0.23309\n",
      "[150]\ttrain-logloss:0.07064\teval-logloss:0.23224\n",
      "[151]\ttrain-logloss:0.07002\teval-logloss:0.23249\n",
      "[152]\ttrain-logloss:0.06927\teval-logloss:0.23168\n",
      "[153]\ttrain-logloss:0.06871\teval-logloss:0.23123\n",
      "[154]\ttrain-logloss:0.06797\teval-logloss:0.23087\n",
      "[155]\ttrain-logloss:0.06727\teval-logloss:0.22961\n",
      "[156]\ttrain-logloss:0.06664\teval-logloss:0.22825\n",
      "[157]\ttrain-logloss:0.06591\teval-logloss:0.22841\n",
      "[158]\ttrain-logloss:0.06520\teval-logloss:0.22864\n",
      "[159]\ttrain-logloss:0.06449\teval-logloss:0.22823\n",
      "[160]\ttrain-logloss:0.06401\teval-logloss:0.22770\n",
      "[161]\ttrain-logloss:0.06342\teval-logloss:0.22756\n",
      "[162]\ttrain-logloss:0.06271\teval-logloss:0.22716\n",
      "[163]\ttrain-logloss:0.06207\teval-logloss:0.22656\n",
      "[164]\ttrain-logloss:0.06151\teval-logloss:0.22663\n",
      "[165]\ttrain-logloss:0.06085\teval-logloss:0.22602\n",
      "[166]\ttrain-logloss:0.06015\teval-logloss:0.22529\n",
      "[167]\ttrain-logloss:0.05946\teval-logloss:0.22456\n",
      "[168]\ttrain-logloss:0.05887\teval-logloss:0.22439\n",
      "[169]\ttrain-logloss:0.05821\teval-logloss:0.22370\n",
      "[170]\ttrain-logloss:0.05781\teval-logloss:0.22310\n",
      "[171]\ttrain-logloss:0.05719\teval-logloss:0.22273\n",
      "[172]\ttrain-logloss:0.05658\teval-logloss:0.22204\n",
      "[173]\ttrain-logloss:0.05597\teval-logloss:0.22191\n",
      "[174]\ttrain-logloss:0.05541\teval-logloss:0.22208\n",
      "[175]\ttrain-logloss:0.05484\teval-logloss:0.22153\n",
      "[176]\ttrain-logloss:0.05448\teval-logloss:0.22092\n",
      "[177]\ttrain-logloss:0.05393\teval-logloss:0.22082\n",
      "[178]\ttrain-logloss:0.05337\teval-logloss:0.22030\n",
      "[179]\ttrain-logloss:0.05287\teval-logloss:0.22009\n",
      "[180]\ttrain-logloss:0.05234\teval-logloss:0.21976\n",
      "[181]\ttrain-logloss:0.05200\teval-logloss:0.21921\n",
      "[182]\ttrain-logloss:0.05148\teval-logloss:0.21875\n",
      "[183]\ttrain-logloss:0.05097\teval-logloss:0.21860\n",
      "[184]\ttrain-logloss:0.05048\teval-logloss:0.21844\n",
      "[185]\ttrain-logloss:0.05006\teval-logloss:0.21769\n",
      "[186]\ttrain-logloss:0.04959\teval-logloss:0.21759\n",
      "[187]\ttrain-logloss:0.04918\teval-logloss:0.21758\n",
      "[188]\ttrain-logloss:0.04881\teval-logloss:0.21727\n",
      "[189]\ttrain-logloss:0.04837\teval-logloss:0.21711\n",
      "[190]\ttrain-logloss:0.04789\teval-logloss:0.21685\n",
      "[191]\ttrain-logloss:0.04751\teval-logloss:0.21686\n",
      "[192]\ttrain-logloss:0.04711\teval-logloss:0.21689\n",
      "[193]\ttrain-logloss:0.04666\teval-logloss:0.21618\n",
      "[194]\ttrain-logloss:0.04627\teval-logloss:0.21542\n",
      "[195]\ttrain-logloss:0.04585\teval-logloss:0.21519\n",
      "[196]\ttrain-logloss:0.04551\teval-logloss:0.21509\n",
      "[197]\ttrain-logloss:0.04513\teval-logloss:0.21485\n",
      "[198]\ttrain-logloss:0.04477\teval-logloss:0.21430\n",
      "[199]\ttrain-logloss:0.04434\teval-logloss:0.21407\n",
      "[200]\ttrain-logloss:0.04408\teval-logloss:0.21354\n",
      "[201]\ttrain-logloss:0.04372\teval-logloss:0.21282\n",
      "[202]\ttrain-logloss:0.04333\teval-logloss:0.21267\n",
      "[203]\ttrain-logloss:0.04302\teval-logloss:0.21264\n",
      "[204]\ttrain-logloss:0.04268\teval-logloss:0.21277\n",
      "[205]\ttrain-logloss:0.04230\teval-logloss:0.21326\n",
      "[206]\ttrain-logloss:0.04200\teval-logloss:0.21322\n",
      "[207]\ttrain-logloss:0.04163\teval-logloss:0.21272\n",
      "[208]\ttrain-logloss:0.04138\teval-logloss:0.21257\n",
      "[209]\ttrain-logloss:0.04100\teval-logloss:0.21232\n",
      "[210]\ttrain-logloss:0.04076\teval-logloss:0.21233\n",
      "[211]\ttrain-logloss:0.04044\teval-logloss:0.21247\n",
      "[212]\ttrain-logloss:0.04006\teval-logloss:0.21224\n",
      "[213]\ttrain-logloss:0.03970\teval-logloss:0.21201\n",
      "[214]\ttrain-logloss:0.03939\teval-logloss:0.21129\n",
      "[215]\ttrain-logloss:0.03917\teval-logloss:0.21102\n",
      "[216]\ttrain-logloss:0.03891\teval-logloss:0.21094\n",
      "[217]\ttrain-logloss:0.03861\teval-logloss:0.21062\n",
      "[218]\ttrain-logloss:0.03832\teval-logloss:0.21091\n",
      "[219]\ttrain-logloss:0.03803\teval-logloss:0.21021\n",
      "[220]\ttrain-logloss:0.03770\teval-logloss:0.21037\n",
      "[221]\ttrain-logloss:0.03746\teval-logloss:0.20975\n",
      "[222]\ttrain-logloss:0.03720\teval-logloss:0.20950\n",
      "[223]\ttrain-logloss:0.03688\teval-logloss:0.20967\n",
      "[224]\ttrain-logloss:0.03661\teval-logloss:0.20937\n",
      "[225]\ttrain-logloss:0.03630\teval-logloss:0.20968\n",
      "[226]\ttrain-logloss:0.03605\teval-logloss:0.20964\n",
      "[227]\ttrain-logloss:0.03582\teval-logloss:0.20988\n",
      "[228]\ttrain-logloss:0.03561\teval-logloss:0.20969\n",
      "[229]\ttrain-logloss:0.03535\teval-logloss:0.20889\n",
      "[230]\ttrain-logloss:0.03509\teval-logloss:0.20895\n",
      "[231]\ttrain-logloss:0.03485\teval-logloss:0.20867\n",
      "[232]\ttrain-logloss:0.03460\teval-logloss:0.20845\n",
      "[233]\ttrain-logloss:0.03441\teval-logloss:0.20822\n",
      "[234]\ttrain-logloss:0.03415\teval-logloss:0.20838\n",
      "[235]\ttrain-logloss:0.03390\teval-logloss:0.20793\n",
      "[236]\ttrain-logloss:0.03368\teval-logloss:0.20768\n",
      "[237]\ttrain-logloss:0.03342\teval-logloss:0.20750\n",
      "[238]\ttrain-logloss:0.03321\teval-logloss:0.20700\n",
      "[239]\ttrain-logloss:0.03300\teval-logloss:0.20698\n",
      "[240]\ttrain-logloss:0.03277\teval-logloss:0.20719\n",
      "[241]\ttrain-logloss:0.03256\teval-logloss:0.20704\n",
      "[242]\ttrain-logloss:0.03241\teval-logloss:0.20712\n",
      "[243]\ttrain-logloss:0.03215\teval-logloss:0.20682\n",
      "[244]\ttrain-logloss:0.03196\teval-logloss:0.20677\n",
      "[245]\ttrain-logloss:0.03177\teval-logloss:0.20683\n",
      "[246]\ttrain-logloss:0.03155\teval-logloss:0.20639\n",
      "[247]\ttrain-logloss:0.03135\teval-logloss:0.20628\n",
      "[248]\ttrain-logloss:0.03114\teval-logloss:0.20607\n",
      "[249]\ttrain-logloss:0.03095\teval-logloss:0.20562\n",
      "[250]\ttrain-logloss:0.03076\teval-logloss:0.20559\n",
      "[251]\ttrain-logloss:0.03056\teval-logloss:0.20570\n",
      "[252]\ttrain-logloss:0.03033\teval-logloss:0.20543\n",
      "[253]\ttrain-logloss:0.03011\teval-logloss:0.20528\n",
      "[254]\ttrain-logloss:0.02994\teval-logloss:0.20484\n",
      "[255]\ttrain-logloss:0.02976\teval-logloss:0.20475\n",
      "[256]\ttrain-logloss:0.02959\teval-logloss:0.20476\n",
      "[257]\ttrain-logloss:0.02942\teval-logloss:0.20479\n",
      "[258]\ttrain-logloss:0.02922\teval-logloss:0.20500\n",
      "[259]\ttrain-logloss:0.02903\teval-logloss:0.20511\n",
      "[260]\ttrain-logloss:0.02886\teval-logloss:0.20512\n",
      "[261]\ttrain-logloss:0.02873\teval-logloss:0.20483\n",
      "[262]\ttrain-logloss:0.02856\teval-logloss:0.20471\n",
      "[263]\ttrain-logloss:0.02837\teval-logloss:0.20476\n",
      "[264]\ttrain-logloss:0.02822\teval-logloss:0.20427\n",
      "[265]\ttrain-logloss:0.02799\teval-logloss:0.20385\n",
      "[266]\ttrain-logloss:0.02781\teval-logloss:0.20406\n",
      "[267]\ttrain-logloss:0.02761\teval-logloss:0.20399\n",
      "[268]\ttrain-logloss:0.02748\teval-logloss:0.20407\n",
      "[269]\ttrain-logloss:0.02733\teval-logloss:0.20378\n",
      "[270]\ttrain-logloss:0.02716\teval-logloss:0.20400\n",
      "[271]\ttrain-logloss:0.02701\teval-logloss:0.20403\n",
      "[272]\ttrain-logloss:0.02688\teval-logloss:0.20389\n",
      "[273]\ttrain-logloss:0.02676\teval-logloss:0.20362\n",
      "[274]\ttrain-logloss:0.02657\teval-logloss:0.20357\n",
      "[275]\ttrain-logloss:0.02640\teval-logloss:0.20377\n",
      "[276]\ttrain-logloss:0.02627\teval-logloss:0.20326\n",
      "[277]\ttrain-logloss:0.02613\teval-logloss:0.20323\n",
      "[278]\ttrain-logloss:0.02595\teval-logloss:0.20317\n",
      "[279]\ttrain-logloss:0.02579\teval-logloss:0.20339\n",
      "[280]\ttrain-logloss:0.02566\teval-logloss:0.20342\n",
      "[281]\ttrain-logloss:0.02555\teval-logloss:0.20377\n",
      "[282]\ttrain-logloss:0.02542\teval-logloss:0.20380\n",
      "[283]\ttrain-logloss:0.02530\teval-logloss:0.20341\n",
      "[284]\ttrain-logloss:0.02517\teval-logloss:0.20316\n",
      "[285]\ttrain-logloss:0.02500\teval-logloss:0.20312\n",
      "[286]\ttrain-logloss:0.02488\teval-logloss:0.20311\n",
      "[287]\ttrain-logloss:0.02476\teval-logloss:0.20316\n",
      "[288]\ttrain-logloss:0.02464\teval-logloss:0.20315\n",
      "[289]\ttrain-logloss:0.02452\teval-logloss:0.20319\n",
      "[290]\ttrain-logloss:0.02440\teval-logloss:0.20260\n",
      "[291]\ttrain-logloss:0.02426\teval-logloss:0.20255\n",
      "[292]\ttrain-logloss:0.02412\teval-logloss:0.20241\n",
      "[293]\ttrain-logloss:0.02398\teval-logloss:0.20215\n",
      "[294]\ttrain-logloss:0.02386\teval-logloss:0.20179\n",
      "[295]\ttrain-logloss:0.02375\teval-logloss:0.20211\n",
      "[296]\ttrain-logloss:0.02364\teval-logloss:0.20236\n",
      "[297]\ttrain-logloss:0.02352\teval-logloss:0.20242\n",
      "[298]\ttrain-logloss:0.02341\teval-logloss:0.20241\n",
      "[299]\ttrain-logloss:0.02331\teval-logloss:0.20242\n",
      "[300]\ttrain-logloss:0.02321\teval-logloss:0.20213\n",
      "[301]\ttrain-logloss:0.02308\teval-logloss:0.20206\n",
      "[302]\ttrain-logloss:0.02298\teval-logloss:0.20181\n",
      "[303]\ttrain-logloss:0.02285\teval-logloss:0.20156\n",
      "[304]\ttrain-logloss:0.02277\teval-logloss:0.20132\n",
      "[305]\ttrain-logloss:0.02263\teval-logloss:0.20147\n",
      "[306]\ttrain-logloss:0.02250\teval-logloss:0.20123\n",
      "[307]\ttrain-logloss:0.02240\teval-logloss:0.20127\n",
      "[308]\ttrain-logloss:0.02232\teval-logloss:0.20120\n",
      "[309]\ttrain-logloss:0.02218\teval-logloss:0.20119\n",
      "[310]\ttrain-logloss:0.02209\teval-logloss:0.20108\n",
      "[311]\ttrain-logloss:0.02200\teval-logloss:0.20135\n",
      "[312]\ttrain-logloss:0.02189\teval-logloss:0.20117\n",
      "[313]\ttrain-logloss:0.02181\teval-logloss:0.20114\n",
      "[314]\ttrain-logloss:0.02173\teval-logloss:0.20080\n",
      "[315]\ttrain-logloss:0.02161\teval-logloss:0.20028\n",
      "[316]\ttrain-logloss:0.02154\teval-logloss:0.20006\n",
      "[317]\ttrain-logloss:0.02145\teval-logloss:0.20020\n",
      "[318]\ttrain-logloss:0.02134\teval-logloss:0.19998\n",
      "[319]\ttrain-logloss:0.02126\teval-logloss:0.20002\n",
      "[320]\ttrain-logloss:0.02117\teval-logloss:0.20013\n",
      "[321]\ttrain-logloss:0.02109\teval-logloss:0.20007\n",
      "[322]\ttrain-logloss:0.02100\teval-logloss:0.20015\n",
      "[323]\ttrain-logloss:0.02090\teval-logloss:0.20021\n",
      "[324]\ttrain-logloss:0.02083\teval-logloss:0.20016\n",
      "[325]\ttrain-logloss:0.02071\teval-logloss:0.20032\n",
      "[326]\ttrain-logloss:0.02062\teval-logloss:0.20056\n",
      "[327]\ttrain-logloss:0.02050\teval-logloss:0.20057\n",
      "[328]\ttrain-logloss:0.02041\teval-logloss:0.20041\n",
      "[329]\ttrain-logloss:0.02034\teval-logloss:0.20033\n",
      "[330]\ttrain-logloss:0.02026\teval-logloss:0.20026\n",
      "[331]\ttrain-logloss:0.02018\teval-logloss:0.20035\n",
      "[332]\ttrain-logloss:0.02006\teval-logloss:0.20051\n",
      "0.1\n",
      "(0.6511627906976745, 0.9655172413793104, 0.7777777777777779, None)\n"
     ]
    },
    {
     "data": {
      "image/png": "[encoded data removed]",
      "text/plain": [
       "<Figure size 432x288 with 2 Axes>"
      ]
     },
     "metadata": {
      "needs_background": "light"
     },
     "output_type": "display_data"
    },
    {
     "name": "stdout",
     "output_type": "stream",
     "text": [
      "0.18\n",
      "(0.7297297297297297, 0.9310344827586207, 0.8181818181818181, None)\n"
     ]
    },
    {
     "data": {
      "image/png": "[encoded data removed]",
      "text/plain": [
       "<Figure size 432x288 with 2 Axes>"
      ]
     },
     "metadata": {
      "needs_background": "light"
     },
     "output_type": "display_data"
    },
    {
     "name": "stdout",
     "output_type": "stream",
     "text": [
      "0.26\n",
      "(0.7714285714285715, 0.9310344827586207, 0.8437500000000001, None)\n"
     ]
    },
    {
     "data": {
      "image/png": "[encoded data removed]",
      "text/plain": [
       "<Figure size 432x288 with 2 Axes>"
      ]
     },
     "metadata": {
      "needs_background": "light"
     },
     "output_type": "display_data"
    },
    {
     "name": "stdout",
     "output_type": "stream",
     "text": [
      "0.34\n",
      "(0.7878787878787878, 0.896551724137931, 0.8387096774193549, None)\n"
     ]
    },
    {
     "data": {
      "image/png": "[encoded data removed]",
      "text/plain": [
       "<Figure size 432x288 with 2 Axes>"
      ]
     },
     "metadata": {
      "needs_background": "light"
     },
     "output_type": "display_data"
    },
    {
     "name": "stdout",
     "output_type": "stream",
     "text": [
      "0.42\n",
      "(0.8125, 0.896551724137931, 0.8524590163934426, None)\n"
     ]
    },
    {
     "data": {
      "image/png": "[encoded data removed]",
      "text/plain": [
       "<Figure size 432x288 with 2 Axes>"
      ]
     },
     "metadata": {
      "needs_background": "light"
     },
     "output_type": "display_data"
    },
    {
     "name": "stdout",
     "output_type": "stream",
     "text": [
      "0.5\n",
      "(0.8620689655172413, 0.8620689655172413, 0.8620689655172413, None)\n"
     ]
    },
    {
     "data": {
      "image/png": "[encoded data removed]",
      "text/plain": [
       "<Figure size 432x288 with 2 Axes>"
      ]
     },
     "metadata": {
      "needs_background": "light"
     },
     "output_type": "display_data"
    },
    {
     "name": "stdout",
     "output_type": "stream",
     "text": [
      "0.58\n",
      "(0.8928571428571429, 0.8620689655172413, 0.8771929824561403, None)\n"
     ]
    },
    {
     "data": {
      "image/png": "[encoded data removed]",
      "text/plain": [
       "<Figure size 432x288 with 2 Axes>"
      ]
     },
     "metadata": {
      "needs_background": "light"
     },
     "output_type": "display_data"
    },
    {
     "name": "stdout",
     "output_type": "stream",
     "text": [
      "0.66\n",
      "(0.9259259259259259, 0.8620689655172413, 0.8928571428571429, None)\n"
     ]
    },
    {
     "data": {
      "image/png": "[encoded data removed]",
      "text/plain": [
       "<Figure size 432x288 with 2 Axes>"
      ]
     },
     "metadata": {
      "needs_background": "light"
     },
     "output_type": "display_data"
    },
    {
     "name": "stdout",
     "output_type": "stream",
     "text": [
      "0.74\n",
      "(0.9259259259259259, 0.8620689655172413, 0.8928571428571429, None)\n"
     ]
    },
    {
     "data": {
      "image/png": "[encoded data removed]",
      "text/plain": [
       "<Figure size 432x288 with 2 Axes>"
      ]
     },
     "metadata": {
      "needs_background": "light"
     },
     "output_type": "display_data"
    },
    {
     "name": "stdout",
     "output_type": "stream",
     "text": [
      "0.82\n",
      "(0.9230769230769231, 0.8275862068965517, 0.8727272727272727, None)\n"
     ]
    },
    {
     "data": {
      "image/png": "[encoded data removed]",
      "text/plain": [
       "<Figure size 432x288 with 2 Axes>"
      ]
     },
     "metadata": {
      "needs_background": "light"
     },
     "output_type": "display_data"
    }
   ],
   "source": [
    "portability_clf = train_model(X_train, X_val, y_train, y_val, verbosity=1)\n",
    "dtest = xgb.DMatrix(X_test)\n",
    "y_pred = portability_clf.predict(dtest)\n",
    "y_true = y_test\n",
    "plot_performance_at_t(y_true, y_pred, 10)"
   ]
  },
  {
   "cell_type": "code",
   "execution_count": 47,
   "id": "858ce052-561d-4291-91b5-78966c8da7d5",
   "metadata": {
    "tags": []
   },
   "outputs": [],
   "source": [
    "import xgboost as xgb\n",
    "\n",
    "X = vectorizer.transform(training_df['abs_plus_desc_plus_claims']).toarray()\n",
    "y = training_df['safety']\n",
    "\n",
    "X_train, X_test, y_train, y_test = train_test_split(\n",
    "    X, y, test_size=0.3, random_state=42)\n",
    "\n",
    "X_test, X_val, y_test, y_val = train_test_split(\n",
    "    X_test, y_test, test_size=0.3, random_state=42)"
   ]
  },
  {
   "cell_type": "code",
   "execution_count": 48,
   "id": "61c4ab50-3feb-4eb6-9d79-168df0f8d1b5",
   "metadata": {},
   "outputs": [
    {
     "name": "stdout",
     "output_type": "stream",
     "text": [
      "(359, 15027)\n",
      "count    359.000000\n",
      "mean       0.300836\n",
      "std        0.459261\n",
      "min        0.000000\n",
      "25%        0.000000\n",
      "50%        0.000000\n",
      "75%        1.000000\n",
      "max        1.000000\n",
      "Name: safety, dtype: float64\n",
      "-------------\n",
      "(107, 15027)\n",
      "count    107.000000\n",
      "mean       0.383178\n",
      "std        0.488449\n",
      "min        0.000000\n",
      "25%        0.000000\n",
      "50%        0.000000\n",
      "75%        1.000000\n",
      "max        1.000000\n",
      "Name: safety, dtype: float64\n"
     ]
    }
   ],
   "source": [
    "print(X_train.shape)\n",
    "print(y_train.describe())\n",
    "print('-------------')\n",
    "print(X_test.shape)\n",
    "print(y_test.describe())"
   ]
  },
  {
   "cell_type": "code",
   "execution_count": 49,
   "id": "21ad199a-5d2f-4d80-b86a-b742baaf3a9e",
   "metadata": {
    "collapsed": true,
    "jupyter": {
     "outputs_hidden": true
    },
    "tags": []
   },
   "outputs": [
    {
     "name": "stdout",
     "output_type": "stream",
     "text": [
      "[0]\ttrain-logloss:0.67907\teval-logloss:0.68606\n",
      "[1]\ttrain-logloss:0.66553\teval-logloss:0.67774\n",
      "[2]\ttrain-logloss:0.65208\teval-logloss:0.67023\n",
      "[3]\ttrain-logloss:0.63913\teval-logloss:0.66127\n",
      "[4]\ttrain-logloss:0.62677\teval-logloss:0.65686\n",
      "[5]\ttrain-logloss:0.61423\teval-logloss:0.64820\n",
      "[6]\ttrain-logloss:0.60193\teval-logloss:0.64022\n",
      "[7]\ttrain-logloss:0.59047\teval-logloss:0.63293\n",
      "[8]\ttrain-logloss:0.57924\teval-logloss:0.62762\n",
      "[9]\ttrain-logloss:0.56753\teval-logloss:0.62070\n",
      "[10]\ttrain-logloss:0.55709\teval-logloss:0.61369\n",
      "[11]\ttrain-logloss:0.54679\teval-logloss:0.60789\n",
      "[12]\ttrain-logloss:0.53694\teval-logloss:0.60244\n",
      "[13]\ttrain-logloss:0.52664\teval-logloss:0.59617\n",
      "[14]\ttrain-logloss:0.51665\teval-logloss:0.59018\n",
      "[15]\ttrain-logloss:0.50768\teval-logloss:0.58592\n",
      "[16]\ttrain-logloss:0.49816\teval-logloss:0.58040\n",
      "[17]\ttrain-logloss:0.48967\teval-logloss:0.57639\n",
      "[18]\ttrain-logloss:0.48152\teval-logloss:0.57212\n",
      "[19]\ttrain-logloss:0.47269\teval-logloss:0.56729\n",
      "[20]\ttrain-logloss:0.46486\teval-logloss:0.56358\n",
      "[21]\ttrain-logloss:0.45643\teval-logloss:0.55880\n",
      "[22]\ttrain-logloss:0.44824\teval-logloss:0.55419\n",
      "[23]\ttrain-logloss:0.44028\teval-logloss:0.54977\n",
      "[24]\ttrain-logloss:0.43320\teval-logloss:0.54643\n",
      "[25]\ttrain-logloss:0.42551\teval-logloss:0.54151\n",
      "[26]\ttrain-logloss:0.41813\teval-logloss:0.53914\n",
      "[27]\ttrain-logloss:0.41074\teval-logloss:0.53460\n",
      "[28]\ttrain-logloss:0.40387\teval-logloss:0.53200\n",
      "[29]\ttrain-logloss:0.39697\teval-logloss:0.52835\n",
      "[30]\ttrain-logloss:0.39074\teval-logloss:0.52577\n",
      "[31]\ttrain-logloss:0.38397\teval-logloss:0.52204\n",
      "[32]\ttrain-logloss:0.37772\teval-logloss:0.52007\n",
      "[33]\ttrain-logloss:0.37125\teval-logloss:0.51680\n",
      "[34]\ttrain-logloss:0.36530\teval-logloss:0.51479\n",
      "[35]\ttrain-logloss:0.35918\teval-logloss:0.51217\n",
      "[36]\ttrain-logloss:0.35386\teval-logloss:0.51018\n",
      "[37]\ttrain-logloss:0.34840\teval-logloss:0.50717\n",
      "[38]\ttrain-logloss:0.34240\teval-logloss:0.50444\n",
      "[39]\ttrain-logloss:0.33726\teval-logloss:0.50161\n",
      "[40]\ttrain-logloss:0.33185\teval-logloss:0.50048\n",
      "[41]\ttrain-logloss:0.32683\teval-logloss:0.49830\n",
      "[42]\ttrain-logloss:0.32215\teval-logloss:0.49744\n",
      "[43]\ttrain-logloss:0.31699\teval-logloss:0.49441\n",
      "[44]\ttrain-logloss:0.31233\teval-logloss:0.49121\n",
      "[45]\ttrain-logloss:0.30784\teval-logloss:0.48889\n",
      "[46]\ttrain-logloss:0.30344\teval-logloss:0.48592\n",
      "[47]\ttrain-logloss:0.29914\teval-logloss:0.48443\n",
      "[48]\ttrain-logloss:0.29469\teval-logloss:0.48239\n",
      "[49]\ttrain-logloss:0.29081\teval-logloss:0.48138\n",
      "[50]\ttrain-logloss:0.28611\teval-logloss:0.47895\n",
      "[51]\ttrain-logloss:0.28194\teval-logloss:0.47717\n",
      "[52]\ttrain-logloss:0.27808\teval-logloss:0.47361\n",
      "[53]\ttrain-logloss:0.27403\teval-logloss:0.47145\n",
      "[54]\ttrain-logloss:0.27032\teval-logloss:0.46838\n",
      "[55]\ttrain-logloss:0.26645\teval-logloss:0.46609\n",
      "[56]\ttrain-logloss:0.26292\teval-logloss:0.46412\n",
      "[57]\ttrain-logloss:0.25920\teval-logloss:0.46235\n",
      "[58]\ttrain-logloss:0.25590\teval-logloss:0.46005\n",
      "[59]\ttrain-logloss:0.25253\teval-logloss:0.45765\n",
      "[60]\ttrain-logloss:0.24963\teval-logloss:0.45634\n",
      "[61]\ttrain-logloss:0.24615\teval-logloss:0.45468\n",
      "[62]\ttrain-logloss:0.24294\teval-logloss:0.45295\n",
      "[63]\ttrain-logloss:0.24024\teval-logloss:0.45227\n",
      "[64]\ttrain-logloss:0.23743\teval-logloss:0.45062\n",
      "[65]\ttrain-logloss:0.23421\teval-logloss:0.45019\n",
      "[66]\ttrain-logloss:0.23058\teval-logloss:0.44869\n",
      "[67]\ttrain-logloss:0.22750\teval-logloss:0.44826\n",
      "[68]\ttrain-logloss:0.22405\teval-logloss:0.44514\n",
      "[69]\ttrain-logloss:0.22124\teval-logloss:0.44395\n",
      "[70]\ttrain-logloss:0.21830\teval-logloss:0.44371\n",
      "[71]\ttrain-logloss:0.21582\teval-logloss:0.44177\n",
      "[72]\ttrain-logloss:0.21270\teval-logloss:0.44055\n",
      "[73]\ttrain-logloss:0.20953\teval-logloss:0.44007\n",
      "[74]\ttrain-logloss:0.20648\teval-logloss:0.43800\n",
      "[75]\ttrain-logloss:0.20344\teval-logloss:0.43531\n",
      "[76]\ttrain-logloss:0.20056\teval-logloss:0.43418\n",
      "[77]\ttrain-logloss:0.19774\teval-logloss:0.43313\n",
      "[78]\ttrain-logloss:0.19492\teval-logloss:0.43090\n",
      "[79]\ttrain-logloss:0.19273\teval-logloss:0.42934\n",
      "[80]\ttrain-logloss:0.18997\teval-logloss:0.42741\n",
      "[81]\ttrain-logloss:0.18736\teval-logloss:0.42649\n",
      "[82]\ttrain-logloss:0.18518\teval-logloss:0.42456\n",
      "[83]\ttrain-logloss:0.18320\teval-logloss:0.42346\n",
      "[84]\ttrain-logloss:0.18072\teval-logloss:0.42262\n",
      "[85]\ttrain-logloss:0.17816\teval-logloss:0.42114\n",
      "[86]\ttrain-logloss:0.17614\teval-logloss:0.41932\n",
      "[87]\ttrain-logloss:0.17379\teval-logloss:0.41863\n",
      "[88]\ttrain-logloss:0.17197\teval-logloss:0.41760\n",
      "[89]\ttrain-logloss:0.16971\teval-logloss:0.41729\n",
      "[90]\ttrain-logloss:0.16738\teval-logloss:0.41604\n",
      "[91]\ttrain-logloss:0.16526\teval-logloss:0.41602\n",
      "[92]\ttrain-logloss:0.16342\teval-logloss:0.41409\n",
      "[93]\ttrain-logloss:0.16114\teval-logloss:0.41236\n",
      "[94]\ttrain-logloss:0.15943\teval-logloss:0.41178\n",
      "[95]\ttrain-logloss:0.15796\teval-logloss:0.40999\n",
      "[96]\ttrain-logloss:0.15578\teval-logloss:0.40860\n",
      "[97]\ttrain-logloss:0.15418\teval-logloss:0.40834\n",
      "[98]\ttrain-logloss:0.15210\teval-logloss:0.40697\n",
      "[99]\ttrain-logloss:0.15015\teval-logloss:0.40585\n",
      "[100]\ttrain-logloss:0.14873\teval-logloss:0.40433\n",
      "[101]\ttrain-logloss:0.14675\teval-logloss:0.40283\n",
      "[102]\ttrain-logloss:0.14501\teval-logloss:0.40195\n",
      "[103]\ttrain-logloss:0.14357\teval-logloss:0.40184\n",
      "[104]\ttrain-logloss:0.14192\teval-logloss:0.40066\n",
      "[105]\ttrain-logloss:0.14006\teval-logloss:0.39946\n",
      "[106]\ttrain-logloss:0.13849\teval-logloss:0.39839\n",
      "[107]\ttrain-logloss:0.13690\teval-logloss:0.39754\n",
      "[108]\ttrain-logloss:0.13513\teval-logloss:0.39620\n",
      "[109]\ttrain-logloss:0.13359\teval-logloss:0.39476\n",
      "[110]\ttrain-logloss:0.13217\teval-logloss:0.39322\n",
      "[111]\ttrain-logloss:0.13070\teval-logloss:0.39185\n",
      "[112]\ttrain-logloss:0.12926\teval-logloss:0.39082\n",
      "[113]\ttrain-logloss:0.12764\teval-logloss:0.38979\n",
      "[114]\ttrain-logloss:0.12631\teval-logloss:0.38834\n",
      "[115]\ttrain-logloss:0.12507\teval-logloss:0.38784\n",
      "[116]\ttrain-logloss:0.12388\teval-logloss:0.38764\n",
      "[117]\ttrain-logloss:0.12261\teval-logloss:0.38625\n",
      "[118]\ttrain-logloss:0.12145\teval-logloss:0.38582\n",
      "[119]\ttrain-logloss:0.12016\teval-logloss:0.38493\n",
      "[120]\ttrain-logloss:0.11871\teval-logloss:0.38530\n",
      "[121]\ttrain-logloss:0.11753\teval-logloss:0.38389\n",
      "[122]\ttrain-logloss:0.11606\teval-logloss:0.38238\n",
      "[123]\ttrain-logloss:0.11483\teval-logloss:0.38157\n",
      "[124]\ttrain-logloss:0.11363\teval-logloss:0.38078\n",
      "[125]\ttrain-logloss:0.11227\teval-logloss:0.37940\n",
      "[126]\ttrain-logloss:0.11112\teval-logloss:0.37862\n",
      "[127]\ttrain-logloss:0.10983\teval-logloss:0.37809\n",
      "[128]\ttrain-logloss:0.10862\teval-logloss:0.37769\n",
      "[129]\ttrain-logloss:0.10751\teval-logloss:0.37653\n",
      "[130]\ttrain-logloss:0.10638\teval-logloss:0.37612\n",
      "[131]\ttrain-logloss:0.10531\teval-logloss:0.37452\n",
      "[132]\ttrain-logloss:0.10439\teval-logloss:0.37401\n",
      "[133]\ttrain-logloss:0.10334\teval-logloss:0.37270\n",
      "[134]\ttrain-logloss:0.10230\teval-logloss:0.37160\n",
      "[135]\ttrain-logloss:0.10143\teval-logloss:0.37123\n",
      "[136]\ttrain-logloss:0.10035\teval-logloss:0.37026\n",
      "[137]\ttrain-logloss:0.09938\teval-logloss:0.36915\n",
      "[138]\ttrain-logloss:0.09828\teval-logloss:0.36848\n",
      "[139]\ttrain-logloss:0.09735\teval-logloss:0.36836\n",
      "[140]\ttrain-logloss:0.09635\teval-logloss:0.36853\n",
      "[141]\ttrain-logloss:0.09535\teval-logloss:0.36755\n",
      "[142]\ttrain-logloss:0.09435\teval-logloss:0.36737\n",
      "[143]\ttrain-logloss:0.09353\teval-logloss:0.36721\n",
      "[144]\ttrain-logloss:0.09269\teval-logloss:0.36599\n",
      "[145]\ttrain-logloss:0.09170\teval-logloss:0.36565\n",
      "[146]\ttrain-logloss:0.09085\teval-logloss:0.36455\n",
      "[147]\ttrain-logloss:0.09003\teval-logloss:0.36398\n",
      "[148]\ttrain-logloss:0.08925\teval-logloss:0.36355\n",
      "[149]\ttrain-logloss:0.08837\teval-logloss:0.36326\n",
      "[150]\ttrain-logloss:0.08747\teval-logloss:0.36221\n",
      "[151]\ttrain-logloss:0.08678\teval-logloss:0.36208\n",
      "[152]\ttrain-logloss:0.08591\teval-logloss:0.36169\n",
      "[153]\ttrain-logloss:0.08503\teval-logloss:0.36144\n",
      "[154]\ttrain-logloss:0.08428\teval-logloss:0.36053\n",
      "[155]\ttrain-logloss:0.08366\teval-logloss:0.35991\n",
      "[156]\ttrain-logloss:0.08285\teval-logloss:0.35987\n",
      "[157]\ttrain-logloss:0.08212\teval-logloss:0.35948\n",
      "[158]\ttrain-logloss:0.08129\teval-logloss:0.35873\n",
      "[159]\ttrain-logloss:0.08058\teval-logloss:0.35836\n",
      "[160]\ttrain-logloss:0.07989\teval-logloss:0.35830\n",
      "[161]\ttrain-logloss:0.07904\teval-logloss:0.35864\n",
      "[162]\ttrain-logloss:0.07825\teval-logloss:0.35821\n",
      "[163]\ttrain-logloss:0.07758\teval-logloss:0.35785\n",
      "[164]\ttrain-logloss:0.07691\teval-logloss:0.35772\n",
      "[165]\ttrain-logloss:0.07621\teval-logloss:0.35788\n",
      "[166]\ttrain-logloss:0.07559\teval-logloss:0.35749\n",
      "[167]\ttrain-logloss:0.07488\teval-logloss:0.35646\n",
      "[168]\ttrain-logloss:0.07427\teval-logloss:0.35615\n",
      "[169]\ttrain-logloss:0.07355\teval-logloss:0.35586\n",
      "[170]\ttrain-logloss:0.07294\teval-logloss:0.35561\n",
      "[171]\ttrain-logloss:0.07225\teval-logloss:0.35596\n",
      "[172]\ttrain-logloss:0.07161\teval-logloss:0.35571\n",
      "[173]\ttrain-logloss:0.07105\teval-logloss:0.35504\n",
      "[174]\ttrain-logloss:0.07035\teval-logloss:0.35445\n",
      "[175]\ttrain-logloss:0.06983\teval-logloss:0.35382\n",
      "[176]\ttrain-logloss:0.06922\teval-logloss:0.35352\n",
      "[177]\ttrain-logloss:0.06859\teval-logloss:0.35306\n",
      "[178]\ttrain-logloss:0.06800\teval-logloss:0.35241\n",
      "[179]\ttrain-logloss:0.06741\teval-logloss:0.35219\n",
      "[180]\ttrain-logloss:0.06682\teval-logloss:0.35240\n",
      "[181]\ttrain-logloss:0.06629\teval-logloss:0.35160\n",
      "[182]\ttrain-logloss:0.06574\teval-logloss:0.35142\n",
      "[183]\ttrain-logloss:0.06516\teval-logloss:0.35091\n",
      "[184]\ttrain-logloss:0.06468\teval-logloss:0.35065\n",
      "[185]\ttrain-logloss:0.06424\teval-logloss:0.34990\n",
      "[186]\ttrain-logloss:0.06370\teval-logloss:0.35009\n",
      "[187]\ttrain-logloss:0.06321\teval-logloss:0.34961\n",
      "[188]\ttrain-logloss:0.06270\teval-logloss:0.34953\n",
      "[189]\ttrain-logloss:0.06224\teval-logloss:0.34903\n",
      "[190]\ttrain-logloss:0.06181\teval-logloss:0.34887\n",
      "[191]\ttrain-logloss:0.06131\teval-logloss:0.34930\n",
      "[192]\ttrain-logloss:0.06078\teval-logloss:0.34976\n",
      "[193]\ttrain-logloss:0.06029\teval-logloss:0.35020\n",
      "[194]\ttrain-logloss:0.05983\teval-logloss:0.34968\n",
      "[195]\ttrain-logloss:0.05938\teval-logloss:0.34895\n",
      "[196]\ttrain-logloss:0.05887\teval-logloss:0.34894\n",
      "[197]\ttrain-logloss:0.05843\teval-logloss:0.34868\n",
      "[198]\ttrain-logloss:0.05798\teval-logloss:0.34918\n",
      "[199]\ttrain-logloss:0.05757\teval-logloss:0.34883\n",
      "[200]\ttrain-logloss:0.05711\teval-logloss:0.34805\n",
      "[201]\ttrain-logloss:0.05675\teval-logloss:0.34771\n",
      "[202]\ttrain-logloss:0.05628\teval-logloss:0.34776\n",
      "[203]\ttrain-logloss:0.05587\teval-logloss:0.34752\n",
      "[204]\ttrain-logloss:0.05547\teval-logloss:0.34672\n",
      "[205]\ttrain-logloss:0.05506\teval-logloss:0.34688\n",
      "[206]\ttrain-logloss:0.05467\teval-logloss:0.34585\n",
      "[207]\ttrain-logloss:0.05423\teval-logloss:0.34582\n",
      "[208]\ttrain-logloss:0.05384\teval-logloss:0.34567\n",
      "[209]\ttrain-logloss:0.05344\teval-logloss:0.34538\n",
      "[210]\ttrain-logloss:0.05314\teval-logloss:0.34516\n",
      "[211]\ttrain-logloss:0.05277\teval-logloss:0.34529\n",
      "[212]\ttrain-logloss:0.05240\teval-logloss:0.34434\n",
      "[213]\ttrain-logloss:0.05198\teval-logloss:0.34429\n",
      "[214]\ttrain-logloss:0.05170\teval-logloss:0.34421\n",
      "[215]\ttrain-logloss:0.05135\teval-logloss:0.34406\n",
      "[216]\ttrain-logloss:0.05113\teval-logloss:0.34399\n",
      "[217]\ttrain-logloss:0.05078\teval-logloss:0.34309\n",
      "[218]\ttrain-logloss:0.05046\teval-logloss:0.34268\n",
      "[219]\ttrain-logloss:0.05008\teval-logloss:0.34264\n",
      "[220]\ttrain-logloss:0.04975\teval-logloss:0.34203\n",
      "[221]\ttrain-logloss:0.04944\teval-logloss:0.34145\n",
      "[222]\ttrain-logloss:0.04912\teval-logloss:0.34064\n",
      "[223]\ttrain-logloss:0.04875\teval-logloss:0.34063\n",
      "[224]\ttrain-logloss:0.04841\teval-logloss:0.34075\n",
      "[225]\ttrain-logloss:0.04821\teval-logloss:0.34111\n",
      "[226]\ttrain-logloss:0.04789\teval-logloss:0.34113\n",
      "[227]\ttrain-logloss:0.04771\teval-logloss:0.34083\n",
      "[228]\ttrain-logloss:0.04738\teval-logloss:0.34072\n",
      "[229]\ttrain-logloss:0.04712\teval-logloss:0.34035\n",
      "[230]\ttrain-logloss:0.04682\teval-logloss:0.33958\n",
      "[231]\ttrain-logloss:0.04651\teval-logloss:0.33840\n",
      "[232]\ttrain-logloss:0.04633\teval-logloss:0.33836\n",
      "[233]\ttrain-logloss:0.04603\teval-logloss:0.33830\n",
      "[234]\ttrain-logloss:0.04585\teval-logloss:0.33866\n",
      "[235]\ttrain-logloss:0.04560\teval-logloss:0.33784\n",
      "[236]\ttrain-logloss:0.04528\teval-logloss:0.33730\n",
      "[237]\ttrain-logloss:0.04503\teval-logloss:0.33706\n",
      "[238]\ttrain-logloss:0.04474\teval-logloss:0.33631\n",
      "[239]\ttrain-logloss:0.04449\teval-logloss:0.33652\n",
      "[240]\ttrain-logloss:0.04426\teval-logloss:0.33574\n",
      "[241]\ttrain-logloss:0.04400\teval-logloss:0.33574\n",
      "[242]\ttrain-logloss:0.04373\teval-logloss:0.33502\n",
      "[243]\ttrain-logloss:0.04350\teval-logloss:0.33508\n",
      "[244]\ttrain-logloss:0.04324\teval-logloss:0.33470\n",
      "[245]\ttrain-logloss:0.04298\teval-logloss:0.33498\n",
      "[246]\ttrain-logloss:0.04276\teval-logloss:0.33421\n",
      "[247]\ttrain-logloss:0.04257\teval-logloss:0.33437\n",
      "[248]\ttrain-logloss:0.04236\teval-logloss:0.33376\n",
      "[249]\ttrain-logloss:0.04211\teval-logloss:0.33334\n",
      "[250]\ttrain-logloss:0.04188\teval-logloss:0.33376\n",
      "[251]\ttrain-logloss:0.04174\teval-logloss:0.33356\n",
      "[252]\ttrain-logloss:0.04154\teval-logloss:0.33282\n",
      "[253]\ttrain-logloss:0.04132\teval-logloss:0.33300\n",
      "[254]\ttrain-logloss:0.04105\teval-logloss:0.33263\n",
      "[255]\ttrain-logloss:0.04085\teval-logloss:0.33192\n",
      "[256]\ttrain-logloss:0.04071\teval-logloss:0.33170\n",
      "[257]\ttrain-logloss:0.04047\teval-logloss:0.33111\n",
      "[258]\ttrain-logloss:0.04021\teval-logloss:0.33077\n",
      "[259]\ttrain-logloss:0.03999\teval-logloss:0.32988\n",
      "[260]\ttrain-logloss:0.03977\teval-logloss:0.33030\n",
      "[261]\ttrain-logloss:0.03957\teval-logloss:0.33036\n",
      "[262]\ttrain-logloss:0.03940\teval-logloss:0.33052\n",
      "[263]\ttrain-logloss:0.03915\teval-logloss:0.33020\n",
      "[264]\ttrain-logloss:0.03898\teval-logloss:0.33078\n",
      "[265]\ttrain-logloss:0.03877\teval-logloss:0.33120\n",
      "[266]\ttrain-logloss:0.03857\teval-logloss:0.33073\n",
      "[267]\ttrain-logloss:0.03841\teval-logloss:0.33104\n",
      "[268]\ttrain-logloss:0.03822\teval-logloss:0.32967\n",
      "[269]\ttrain-logloss:0.03801\teval-logloss:0.32906\n",
      "[270]\ttrain-logloss:0.03784\teval-logloss:0.32890\n",
      "[271]\ttrain-logloss:0.03761\teval-logloss:0.32861\n",
      "[272]\ttrain-logloss:0.03742\teval-logloss:0.32838\n",
      "[273]\ttrain-logloss:0.03724\teval-logloss:0.32836\n",
      "[274]\ttrain-logloss:0.03706\teval-logloss:0.32703\n",
      "[275]\ttrain-logloss:0.03692\teval-logloss:0.32735\n",
      "[276]\ttrain-logloss:0.03671\teval-logloss:0.32678\n",
      "[277]\ttrain-logloss:0.03654\teval-logloss:0.32640\n",
      "[278]\ttrain-logloss:0.03635\teval-logloss:0.32575\n",
      "[279]\ttrain-logloss:0.03620\teval-logloss:0.32560\n",
      "[280]\ttrain-logloss:0.03604\teval-logloss:0.32564\n",
      "[281]\ttrain-logloss:0.03583\teval-logloss:0.32537\n",
      "[282]\ttrain-logloss:0.03567\teval-logloss:0.32546\n",
      "[283]\ttrain-logloss:0.03553\teval-logloss:0.32609\n",
      "[284]\ttrain-logloss:0.03537\teval-logloss:0.32529\n",
      "[285]\ttrain-logloss:0.03521\teval-logloss:0.32510\n",
      "[286]\ttrain-logloss:0.03505\teval-logloss:0.32489\n",
      "[287]\ttrain-logloss:0.03487\teval-logloss:0.32484\n",
      "[288]\ttrain-logloss:0.03472\teval-logloss:0.32465\n",
      "[289]\ttrain-logloss:0.03457\teval-logloss:0.32491\n",
      "[290]\ttrain-logloss:0.03444\teval-logloss:0.32479\n",
      "[291]\ttrain-logloss:0.03430\teval-logloss:0.32461\n",
      "[292]\ttrain-logloss:0.03418\teval-logloss:0.32488\n",
      "[293]\ttrain-logloss:0.03401\teval-logloss:0.32487\n",
      "[294]\ttrain-logloss:0.03392\teval-logloss:0.32459\n",
      "[295]\ttrain-logloss:0.03377\teval-logloss:0.32469\n",
      "[296]\ttrain-logloss:0.03362\teval-logloss:0.32379\n",
      "[297]\ttrain-logloss:0.03349\teval-logloss:0.32362\n",
      "[298]\ttrain-logloss:0.03333\teval-logloss:0.32383\n",
      "[299]\ttrain-logloss:0.03319\teval-logloss:0.32366\n",
      "[300]\ttrain-logloss:0.03305\teval-logloss:0.32340\n",
      "[301]\ttrain-logloss:0.03290\teval-logloss:0.32322\n",
      "[302]\ttrain-logloss:0.03278\teval-logloss:0.32329\n",
      "[303]\ttrain-logloss:0.03263\teval-logloss:0.32277\n",
      "[304]\ttrain-logloss:0.03252\teval-logloss:0.32289\n",
      "[305]\ttrain-logloss:0.03238\teval-logloss:0.32276\n",
      "[306]\ttrain-logloss:0.03228\teval-logloss:0.32256\n",
      "[307]\ttrain-logloss:0.03212\teval-logloss:0.32281\n",
      "[308]\ttrain-logloss:0.03201\teval-logloss:0.32213\n",
      "[309]\ttrain-logloss:0.03189\teval-logloss:0.32201\n",
      "[310]\ttrain-logloss:0.03175\teval-logloss:0.32249\n",
      "[311]\ttrain-logloss:0.03162\teval-logloss:0.32224\n",
      "[312]\ttrain-logloss:0.03148\teval-logloss:0.32175\n",
      "[313]\ttrain-logloss:0.03134\teval-logloss:0.32223\n",
      "[314]\ttrain-logloss:0.03120\teval-logloss:0.32196\n",
      "[315]\ttrain-logloss:0.03108\teval-logloss:0.32194\n",
      "[316]\ttrain-logloss:0.03098\teval-logloss:0.32181\n",
      "[317]\ttrain-logloss:0.03089\teval-logloss:0.32159\n",
      "[318]\ttrain-logloss:0.03079\teval-logloss:0.32131\n",
      "[319]\ttrain-logloss:0.03066\teval-logloss:0.32179\n",
      "[320]\ttrain-logloss:0.03052\teval-logloss:0.32154\n",
      "[321]\ttrain-logloss:0.03042\teval-logloss:0.32141\n",
      "[322]\ttrain-logloss:0.03034\teval-logloss:0.32120\n",
      "[323]\ttrain-logloss:0.03019\teval-logloss:0.32156\n",
      "[324]\ttrain-logloss:0.03008\teval-logloss:0.32165\n",
      "[325]\ttrain-logloss:0.02996\teval-logloss:0.32100\n",
      "[326]\ttrain-logloss:0.02985\teval-logloss:0.32148\n",
      "[327]\ttrain-logloss:0.02973\teval-logloss:0.32124\n",
      "[328]\ttrain-logloss:0.02964\teval-logloss:0.32091\n",
      "[329]\ttrain-logloss:0.02955\teval-logloss:0.32065\n",
      "[330]\ttrain-logloss:0.02942\teval-logloss:0.32010\n",
      "[331]\ttrain-logloss:0.02932\teval-logloss:0.32020\n",
      "[332]\ttrain-logloss:0.02920\teval-logloss:0.32020\n",
      "[333]\ttrain-logloss:0.02910\teval-logloss:0.32042\n",
      "[334]\ttrain-logloss:0.02896\teval-logloss:0.32079\n",
      "[335]\ttrain-logloss:0.02885\teval-logloss:0.32131\n",
      "[336]\ttrain-logloss:0.02874\teval-logloss:0.32149\n",
      "[337]\ttrain-logloss:0.02863\teval-logloss:0.32108\n",
      "[338]\ttrain-logloss:0.02852\teval-logloss:0.32088\n",
      "[339]\ttrain-logloss:0.02841\teval-logloss:0.32089\n",
      "[340]\ttrain-logloss:0.02831\teval-logloss:0.32081\n",
      "[341]\ttrain-logloss:0.02825\teval-logloss:0.32081\n",
      "[342]\ttrain-logloss:0.02816\teval-logloss:0.32096\n",
      "[343]\ttrain-logloss:0.02807\teval-logloss:0.32118\n",
      "[344]\ttrain-logloss:0.02798\teval-logloss:0.32124\n",
      "0.1\n",
      "(0.6206896551724138, 0.8780487804878049, 0.7272727272727273, None)\n"
     ]
    },
    {
     "data": {
      "image/png": "[encoded data removed]",
      "text/plain": [
       "<Figure size 432x288 with 2 Axes>"
      ]
     },
     "metadata": {
      "needs_background": "light"
     },
     "output_type": "display_data"
    },
    {
     "name": "stdout",
     "output_type": "stream",
     "text": [
      "0.18\n",
      "(0.6530612244897959, 0.7804878048780488, 0.711111111111111, None)\n"
     ]
    },
    {
     "data": {
      "image/png": "[encoded data removed]",
      "text/plain": [
       "<Figure size 432x288 with 2 Axes>"
      ]
     },
     "metadata": {
      "needs_background": "light"
     },
     "output_type": "display_data"
    },
    {
     "name": "stdout",
     "output_type": "stream",
     "text": [
      "0.26\n",
      "(0.7142857142857143, 0.7317073170731707, 0.7228915662650603, None)\n"
     ]
    },
    {
     "data": {
      "image/png": "[encoded data removed]",
      "text/plain": [
       "<Figure size 432x288 with 2 Axes>"
      ]
     },
     "metadata": {
      "needs_background": "light"
     },
     "output_type": "display_data"
    },
    {
     "name": "stdout",
     "output_type": "stream",
     "text": [
      "0.34\n",
      "(0.7368421052631579, 0.6829268292682927, 0.7088607594936709, None)\n"
     ]
    },
    {
     "data": {
      "image/png": "[encoded data removed]",
      "text/plain": [
       "<Figure size 432x288 with 2 Axes>"
      ]
     },
     "metadata": {
      "needs_background": "light"
     },
     "output_type": "display_data"
    },
    {
     "name": "stdout",
     "output_type": "stream",
     "text": [
      "0.42\n",
      "(0.7777777777777778, 0.6829268292682927, 0.7272727272727273, None)\n"
     ]
    },
    {
     "data": {
      "image/png": "[encoded data removed]",
      "text/plain": [
       "<Figure size 432x288 with 2 Axes>"
      ]
     },
     "metadata": {
      "needs_background": "light"
     },
     "output_type": "display_data"
    },
    {
     "name": "stdout",
     "output_type": "stream",
     "text": [
      "0.5\n",
      "(0.7647058823529411, 0.6341463414634146, 0.6933333333333332, None)\n"
     ]
    },
    {
     "data": {
      "image/png": "[encoded data removed]",
      "text/plain": [
       "<Figure size 432x288 with 2 Axes>"
      ]
     },
     "metadata": {
      "needs_background": "light"
     },
     "output_type": "display_data"
    },
    {
     "name": "stdout",
     "output_type": "stream",
     "text": [
      "0.58\n",
      "(0.7741935483870968, 0.5853658536585366, 0.6666666666666666, None)\n"
     ]
    },
    {
     "data": {
      "image/png": "[encoded data removed]",
      "text/plain": [
       "<Figure size 432x288 with 2 Axes>"
      ]
     },
     "metadata": {
      "needs_background": "light"
     },
     "output_type": "display_data"
    },
    {
     "name": "stdout",
     "output_type": "stream",
     "text": [
      "0.66\n",
      "(0.8518518518518519, 0.5609756097560976, 0.6764705882352942, None)\n"
     ]
    },
    {
     "data": {
      "image/png": "[encoded data removed]",
      "text/plain": [
       "<Figure size 432x288 with 2 Axes>"
      ]
     },
     "metadata": {
      "needs_background": "light"
     },
     "output_type": "display_data"
    },
    {
     "name": "stdout",
     "output_type": "stream",
     "text": [
      "0.74\n",
      "(0.88, 0.5365853658536586, 0.6666666666666667, None)\n"
     ]
    },
    {
     "data": {
      "image/png": "[encoded data removed]",
      "text/plain": [
       "<Figure size 432x288 with 2 Axes>"
      ]
     },
     "metadata": {
      "needs_background": "light"
     },
     "output_type": "display_data"
    },
    {
     "name": "stdout",
     "output_type": "stream",
     "text": [
      "0.82\n",
      "(0.875, 0.5121951219512195, 0.6461538461538462, None)\n"
     ]
    },
    {
     "data": {
      "image/png": "[encoded data removed]",
      "text/plain": [
       "<Figure size 432x288 with 2 Axes>"
      ]
     },
     "metadata": {
      "needs_background": "light"
     },
     "output_type": "display_data"
    }
   ],
   "source": [
    "portability_clf_w_claims = train_model(X_train, X_val, y_train, y_val, verbosity=1)\n",
    "dtest = xgb.DMatrix(X_test)\n",
    "y_pred = portability_clf_w_claims.predict(dtest)\n",
    "y_true = y_test\n",
    "plot_performance_at_t(y_true, y_pred, 10)"
   ]
  },
  {
   "cell_type": "code",
   "execution_count": 50,
   "id": "895af1b9-0ca9-476c-8497-6f18e6c150c4",
   "metadata": {},
   "outputs": [],
   "source": [
    "X = vectorizer.transform(training_df['abs_plus_desc']).toarray()\n",
    "y = training_df['safety']\n",
    "\n",
    "X_train, X_test, y_train, y_test = train_test_split(\n",
    "    X, y, test_size=0.3, random_state=42)\n",
    "\n",
    "X_test, X_val, y_test, y_val = train_test_split(\n",
    "    X_test, y_test, test_size=0.3, random_state=42)"
   ]
  },
  {
   "cell_type": "code",
   "execution_count": 51,
   "id": "9ca734e8-297f-49fd-b9f1-368981217af8",
   "metadata": {
    "collapsed": true,
    "jupyter": {
     "outputs_hidden": true
    },
    "tags": []
   },
   "outputs": [
    {
     "name": "stdout",
     "output_type": "stream",
     "text": [
      "[0]\ttrain-logloss:0.67852\teval-logloss:0.68222\n",
      "[1]\ttrain-logloss:0.66475\teval-logloss:0.67431\n",
      "[2]\ttrain-logloss:0.65127\teval-logloss:0.66529\n",
      "[3]\ttrain-logloss:0.63815\teval-logloss:0.65561\n",
      "[4]\ttrain-logloss:0.62570\teval-logloss:0.64737\n",
      "[5]\ttrain-logloss:0.61344\teval-logloss:0.63985\n",
      "[6]\ttrain-logloss:0.60160\teval-logloss:0.63215\n",
      "[7]\ttrain-logloss:0.59030\teval-logloss:0.62429\n",
      "[8]\ttrain-logloss:0.57914\teval-logloss:0.61755\n",
      "[9]\ttrain-logloss:0.56867\teval-logloss:0.61086\n",
      "[10]\ttrain-logloss:0.55813\teval-logloss:0.60378\n",
      "[11]\ttrain-logloss:0.54800\teval-logloss:0.59678\n",
      "[12]\ttrain-logloss:0.53805\teval-logloss:0.59021\n",
      "[13]\ttrain-logloss:0.52854\teval-logloss:0.58363\n",
      "[14]\ttrain-logloss:0.51951\teval-logloss:0.57774\n",
      "[15]\ttrain-logloss:0.51044\teval-logloss:0.57279\n",
      "[16]\ttrain-logloss:0.50179\teval-logloss:0.56814\n",
      "[17]\ttrain-logloss:0.49336\teval-logloss:0.56371\n",
      "[18]\ttrain-logloss:0.48518\teval-logloss:0.55831\n",
      "[19]\ttrain-logloss:0.47727\teval-logloss:0.55397\n",
      "[20]\ttrain-logloss:0.46933\teval-logloss:0.54889\n",
      "[21]\ttrain-logloss:0.46177\teval-logloss:0.54454\n",
      "[22]\ttrain-logloss:0.45444\teval-logloss:0.54050\n",
      "[23]\ttrain-logloss:0.44718\teval-logloss:0.53626\n",
      "[24]\ttrain-logloss:0.44004\teval-logloss:0.53209\n",
      "[25]\ttrain-logloss:0.43322\teval-logloss:0.52844\n",
      "[26]\ttrain-logloss:0.42644\teval-logloss:0.52338\n",
      "[27]\ttrain-logloss:0.41987\teval-logloss:0.51984\n",
      "[28]\ttrain-logloss:0.41341\teval-logloss:0.51601\n",
      "[29]\ttrain-logloss:0.40718\teval-logloss:0.51338\n",
      "[30]\ttrain-logloss:0.40114\teval-logloss:0.51038\n",
      "[31]\ttrain-logloss:0.39527\teval-logloss:0.50787\n",
      "[32]\ttrain-logloss:0.38926\teval-logloss:0.50488\n",
      "[33]\ttrain-logloss:0.38355\teval-logloss:0.50202\n",
      "[34]\ttrain-logloss:0.37808\teval-logloss:0.49997\n",
      "[35]\ttrain-logloss:0.37249\teval-logloss:0.49758\n",
      "[36]\ttrain-logloss:0.36729\teval-logloss:0.49559\n",
      "[37]\ttrain-logloss:0.36164\teval-logloss:0.49161\n",
      "[38]\ttrain-logloss:0.35689\teval-logloss:0.48748\n",
      "[39]\ttrain-logloss:0.35185\teval-logloss:0.48415\n",
      "[40]\ttrain-logloss:0.34736\teval-logloss:0.48038\n",
      "[41]\ttrain-logloss:0.34276\teval-logloss:0.47839\n",
      "[42]\ttrain-logloss:0.33763\teval-logloss:0.47592\n",
      "[43]\ttrain-logloss:0.33256\teval-logloss:0.47496\n",
      "[44]\ttrain-logloss:0.32803\teval-logloss:0.47232\n",
      "[45]\ttrain-logloss:0.32313\teval-logloss:0.47049\n",
      "[46]\ttrain-logloss:0.31902\teval-logloss:0.46934\n",
      "[47]\ttrain-logloss:0.31441\teval-logloss:0.46618\n",
      "[48]\ttrain-logloss:0.31015\teval-logloss:0.46443\n",
      "[49]\ttrain-logloss:0.30612\teval-logloss:0.46222\n",
      "[50]\ttrain-logloss:0.30178\teval-logloss:0.46184\n",
      "[51]\ttrain-logloss:0.29751\teval-logloss:0.45956\n",
      "[52]\ttrain-logloss:0.29336\teval-logloss:0.45927\n",
      "[53]\ttrain-logloss:0.28979\teval-logloss:0.45835\n",
      "[54]\ttrain-logloss:0.28580\teval-logloss:0.45541\n",
      "[55]\ttrain-logloss:0.28227\teval-logloss:0.45345\n",
      "[56]\ttrain-logloss:0.27854\teval-logloss:0.45203\n",
      "[57]\ttrain-logloss:0.27517\teval-logloss:0.45018\n",
      "[58]\ttrain-logloss:0.27169\teval-logloss:0.44845\n",
      "[59]\ttrain-logloss:0.26799\teval-logloss:0.44671\n",
      "[60]\ttrain-logloss:0.26460\teval-logloss:0.44512\n",
      "[61]\ttrain-logloss:0.26113\teval-logloss:0.44448\n",
      "[62]\ttrain-logloss:0.25806\teval-logloss:0.44277\n",
      "[63]\ttrain-logloss:0.25473\teval-logloss:0.44222\n",
      "[64]\ttrain-logloss:0.25172\teval-logloss:0.44206\n",
      "[65]\ttrain-logloss:0.24837\teval-logloss:0.43948\n",
      "[66]\ttrain-logloss:0.24516\teval-logloss:0.43935\n",
      "[67]\ttrain-logloss:0.24198\teval-logloss:0.43709\n",
      "[68]\ttrain-logloss:0.23913\teval-logloss:0.43551\n",
      "[69]\ttrain-logloss:0.23587\teval-logloss:0.43492\n",
      "[70]\ttrain-logloss:0.23311\teval-logloss:0.43379\n",
      "[71]\ttrain-logloss:0.23014\teval-logloss:0.43149\n",
      "[72]\ttrain-logloss:0.22703\teval-logloss:0.42981\n",
      "[73]\ttrain-logloss:0.22455\teval-logloss:0.42972\n",
      "[74]\ttrain-logloss:0.22190\teval-logloss:0.42852\n",
      "[75]\ttrain-logloss:0.21930\teval-logloss:0.42667\n",
      "[76]\ttrain-logloss:0.21658\teval-logloss:0.42455\n",
      "[77]\ttrain-logloss:0.21375\teval-logloss:0.42417\n",
      "[78]\ttrain-logloss:0.21137\teval-logloss:0.42305\n",
      "[79]\ttrain-logloss:0.20863\teval-logloss:0.42192\n",
      "[80]\ttrain-logloss:0.20597\teval-logloss:0.42165\n",
      "[81]\ttrain-logloss:0.20369\teval-logloss:0.42082\n",
      "[82]\ttrain-logloss:0.20123\teval-logloss:0.41941\n",
      "[83]\ttrain-logloss:0.19833\teval-logloss:0.41807\n",
      "[84]\ttrain-logloss:0.19583\teval-logloss:0.41706\n",
      "[85]\ttrain-logloss:0.19370\teval-logloss:0.41596\n",
      "[86]\ttrain-logloss:0.19093\teval-logloss:0.41491\n",
      "[87]\ttrain-logloss:0.18884\teval-logloss:0.41408\n",
      "[88]\ttrain-logloss:0.18649\teval-logloss:0.41315\n",
      "[89]\ttrain-logloss:0.18386\teval-logloss:0.41221\n",
      "[90]\ttrain-logloss:0.18168\teval-logloss:0.41172\n",
      "[91]\ttrain-logloss:0.17949\teval-logloss:0.41093\n",
      "[92]\ttrain-logloss:0.17741\teval-logloss:0.41053\n",
      "[93]\ttrain-logloss:0.17547\teval-logloss:0.40874\n",
      "[94]\ttrain-logloss:0.17307\teval-logloss:0.40785\n",
      "[95]\ttrain-logloss:0.17097\teval-logloss:0.40721\n",
      "[96]\ttrain-logloss:0.16907\teval-logloss:0.40511\n",
      "[97]\ttrain-logloss:0.16730\teval-logloss:0.40505\n",
      "[98]\ttrain-logloss:0.16556\teval-logloss:0.40495\n",
      "[99]\ttrain-logloss:0.16360\teval-logloss:0.40468\n",
      "[100]\ttrain-logloss:0.16185\teval-logloss:0.40424\n",
      "[101]\ttrain-logloss:0.15989\teval-logloss:0.40291\n",
      "[102]\ttrain-logloss:0.15803\teval-logloss:0.40269\n",
      "[103]\ttrain-logloss:0.15634\teval-logloss:0.40082\n",
      "[104]\ttrain-logloss:0.15467\teval-logloss:0.39891\n",
      "[105]\ttrain-logloss:0.15299\teval-logloss:0.39862\n",
      "[106]\ttrain-logloss:0.15149\teval-logloss:0.39867\n",
      "[107]\ttrain-logloss:0.15004\teval-logloss:0.39731\n",
      "[108]\ttrain-logloss:0.14844\teval-logloss:0.39707\n",
      "[109]\ttrain-logloss:0.14699\teval-logloss:0.39712\n",
      "[110]\ttrain-logloss:0.14529\teval-logloss:0.39621\n",
      "[111]\ttrain-logloss:0.14383\teval-logloss:0.39598\n",
      "[112]\ttrain-logloss:0.14239\teval-logloss:0.39445\n",
      "[113]\ttrain-logloss:0.14093\teval-logloss:0.39441\n",
      "[114]\ttrain-logloss:0.13934\teval-logloss:0.39386\n",
      "[115]\ttrain-logloss:0.13803\teval-logloss:0.39395\n",
      "[116]\ttrain-logloss:0.13676\teval-logloss:0.39274\n",
      "[117]\ttrain-logloss:0.13543\teval-logloss:0.39198\n",
      "[118]\ttrain-logloss:0.13411\teval-logloss:0.39172\n",
      "[119]\ttrain-logloss:0.13282\teval-logloss:0.39029\n",
      "[120]\ttrain-logloss:0.13154\teval-logloss:0.39021\n",
      "[121]\ttrain-logloss:0.13017\teval-logloss:0.39003\n",
      "[122]\ttrain-logloss:0.12904\teval-logloss:0.38877\n",
      "[123]\ttrain-logloss:0.12783\teval-logloss:0.38875\n",
      "[124]\ttrain-logloss:0.12648\teval-logloss:0.38879\n",
      "[125]\ttrain-logloss:0.12541\teval-logloss:0.38759\n",
      "[126]\ttrain-logloss:0.12426\teval-logloss:0.38762\n",
      "[127]\ttrain-logloss:0.12323\teval-logloss:0.38796\n",
      "[128]\ttrain-logloss:0.12212\teval-logloss:0.38796\n",
      "[129]\ttrain-logloss:0.12091\teval-logloss:0.38797\n",
      "[130]\ttrain-logloss:0.11992\teval-logloss:0.38688\n",
      "[131]\ttrain-logloss:0.11887\teval-logloss:0.38737\n",
      "[132]\ttrain-logloss:0.11780\teval-logloss:0.38754\n",
      "[133]\ttrain-logloss:0.11664\teval-logloss:0.38714\n",
      "[134]\ttrain-logloss:0.11575\teval-logloss:0.38601\n",
      "[135]\ttrain-logloss:0.11484\teval-logloss:0.38563\n",
      "[136]\ttrain-logloss:0.11378\teval-logloss:0.38472\n",
      "[137]\ttrain-logloss:0.11267\teval-logloss:0.38472\n",
      "[138]\ttrain-logloss:0.11182\teval-logloss:0.38401\n",
      "[139]\ttrain-logloss:0.11068\teval-logloss:0.38489\n",
      "[140]\ttrain-logloss:0.10982\teval-logloss:0.38520\n",
      "[141]\ttrain-logloss:0.10871\teval-logloss:0.38504\n",
      "[142]\ttrain-logloss:0.10789\teval-logloss:0.38474\n",
      "[143]\ttrain-logloss:0.10682\teval-logloss:0.38420\n",
      "[144]\ttrain-logloss:0.10601\teval-logloss:0.38405\n",
      "[145]\ttrain-logloss:0.10500\teval-logloss:0.38396\n",
      "[146]\ttrain-logloss:0.10423\teval-logloss:0.38364\n",
      "[147]\ttrain-logloss:0.10327\teval-logloss:0.38330\n",
      "[148]\ttrain-logloss:0.10231\teval-logloss:0.38325\n",
      "[149]\ttrain-logloss:0.10155\teval-logloss:0.38327\n",
      "[150]\ttrain-logloss:0.10081\teval-logloss:0.38353\n",
      "[151]\ttrain-logloss:0.09984\teval-logloss:0.38437\n",
      "[152]\ttrain-logloss:0.09914\teval-logloss:0.38489\n",
      "[153]\ttrain-logloss:0.09838\teval-logloss:0.38439\n",
      "[154]\ttrain-logloss:0.09744\teval-logloss:0.38527\n",
      "[155]\ttrain-logloss:0.09672\teval-logloss:0.38567\n",
      "[156]\ttrain-logloss:0.09578\teval-logloss:0.38479\n",
      "[157]\ttrain-logloss:0.09501\teval-logloss:0.38528\n",
      "[158]\ttrain-logloss:0.09421\teval-logloss:0.38488\n",
      "[159]\ttrain-logloss:0.09350\teval-logloss:0.38458\n",
      "[160]\ttrain-logloss:0.09283\teval-logloss:0.38463\n",
      "[161]\ttrain-logloss:0.09220\teval-logloss:0.38531\n",
      "[162]\ttrain-logloss:0.09138\teval-logloss:0.38534\n",
      "0.1\n",
      "(0.5362318840579711, 0.9024390243902439, 0.6727272727272728, None)\n"
     ]
    },
    {
     "data": {
      "image/png": "[encoded data removed]",
      "text/plain": [
       "<Figure size 432x288 with 2 Axes>"
      ]
     },
     "metadata": {
      "needs_background": "light"
     },
     "output_type": "display_data"
    },
    {
     "name": "stdout",
     "output_type": "stream",
     "text": [
      "0.18\n",
      "(0.5961538461538461, 0.7560975609756098, 0.6666666666666667, None)\n"
     ]
    },
    {
     "data": {
      "image/png": "[encoded data removed]",
      "text/plain": [
       "<Figure size 432x288 with 2 Axes>"
      ]
     },
     "metadata": {
      "needs_background": "light"
     },
     "output_type": "display_data"
    },
    {
     "name": "stdout",
     "output_type": "stream",
     "text": [
      "0.26\n",
      "(0.6086956521739131, 0.6829268292682927, 0.6436781609195402, None)\n"
     ]
    },
    {
     "data": {
      "image/png": "[encoded data removed]",
      "text/plain": [
       "<Figure size 432x288 with 2 Axes>"
      ]
     },
     "metadata": {
      "needs_background": "light"
     },
     "output_type": "display_data"
    },
    {
     "name": "stdout",
     "output_type": "stream",
     "text": [
      "0.34\n",
      "(0.6222222222222222, 0.6829268292682927, 0.6511627906976744, None)\n"
     ]
    },
    {
     "data": {
      "image/png": "[encoded data removed]",
      "text/plain": [
       "<Figure size 432x288 with 2 Axes>"
      ]
     },
     "metadata": {
      "needs_background": "light"
     },
     "output_type": "display_data"
    },
    {
     "name": "stdout",
     "output_type": "stream",
     "text": [
      "0.42\n",
      "(0.6428571428571429, 0.6585365853658537, 0.6506024096385543, None)\n"
     ]
    },
    {
     "data": {
      "image/png": "[encoded data removed]",
      "text/plain": [
       "<Figure size 432x288 with 2 Axes>"
      ]
     },
     "metadata": {
      "needs_background": "light"
     },
     "output_type": "display_data"
    },
    {
     "name": "stdout",
     "output_type": "stream",
     "text": [
      "0.5\n",
      "(0.6578947368421053, 0.6097560975609756, 0.6329113924050632, None)\n"
     ]
    },
    {
     "data": {
      "image/png": "[encoded data removed]",
      "text/plain": [
       "<Figure size 432x288 with 2 Axes>"
      ]
     },
     "metadata": {
      "needs_background": "light"
     },
     "output_type": "display_data"
    },
    {
     "name": "stdout",
     "output_type": "stream",
     "text": [
      "0.58\n",
      "(0.6857142857142857, 0.5853658536585366, 0.6315789473684211, None)\n"
     ]
    },
    {
     "data": {
      "image/png": "[encoded data removed]",
      "text/plain": [
       "<Figure size 432x288 with 2 Axes>"
      ]
     },
     "metadata": {
      "needs_background": "light"
     },
     "output_type": "display_data"
    },
    {
     "name": "stdout",
     "output_type": "stream",
     "text": [
      "0.66\n",
      "(0.7857142857142857, 0.5365853658536586, 0.6376811594202899, None)\n"
     ]
    },
    {
     "data": {
      "image/png": "[encoded data removed]",
      "text/plain": [
       "<Figure size 432x288 with 2 Axes>"
      ]
     },
     "metadata": {
      "needs_background": "light"
     },
     "output_type": "display_data"
    },
    {
     "name": "stdout",
     "output_type": "stream",
     "text": [
      "0.74\n",
      "(0.7916666666666666, 0.4634146341463415, 0.5846153846153846, None)\n"
     ]
    },
    {
     "data": {
      "image/png": "[encoded data removed]",
      "text/plain": [
       "<Figure size 432x288 with 2 Axes>"
      ]
     },
     "metadata": {
      "needs_background": "light"
     },
     "output_type": "display_data"
    },
    {
     "name": "stdout",
     "output_type": "stream",
     "text": [
      "0.82\n",
      "(0.875, 0.34146341463414637, 0.4912280701754386, None)\n"
     ]
    },
    {
     "data": {
      "image/png": "[encoded data removed]",
      "text/plain": [
       "<Figure size 432x288 with 2 Axes>"
      ]
     },
     "metadata": {
      "needs_background": "light"
     },
     "output_type": "display_data"
    }
   ],
   "source": [
    "safety_clf = train_model(X_train, X_val, y_train, y_val, verbosity=1)\n",
    "dtest = xgb.DMatrix(X_test)\n",
    "y_pred = safety_clf.predict(dtest)\n",
    "plot_performance_at_t(y_true, y_pred, 10)"
   ]
  },
  {
   "cell_type": "code",
   "execution_count": 53,
   "id": "6d70833c-a9bc-418d-a97a-a909c3aaebd9",
   "metadata": {
    "tags": []
   },
   "outputs": [],
   "source": [
    "X = vectorizer.transform(training_df['abs_plus_desc_plus_claims']).toarray()\n",
    "y = training_df['safety']\n",
    "\n",
    "X_train, X_test, y_train, y_test = train_test_split(\n",
    "    X, y, test_size=0.3, random_state=42)\n",
    "\n",
    "X_test, X_val, y_test, y_val = train_test_split(\n",
    "    X_test, y_test, test_size=0.3, random_state=42)"
   ]
  },
  {
   "cell_type": "code",
   "execution_count": 54,
   "id": "67a588cb-db16-44fa-8d0c-27c3440e2c20",
   "metadata": {
    "collapsed": true,
    "jupyter": {
     "outputs_hidden": true
    },
    "tags": []
   },
   "outputs": [
    {
     "name": "stdout",
     "output_type": "stream",
     "text": [
      "[0]\ttrain-logloss:0.67907\teval-logloss:0.68606\n",
      "[1]\ttrain-logloss:0.66553\teval-logloss:0.67774\n",
      "[2]\ttrain-logloss:0.65208\teval-logloss:0.67023\n",
      "[3]\ttrain-logloss:0.63913\teval-logloss:0.66127\n",
      "[4]\ttrain-logloss:0.62677\teval-logloss:0.65686\n",
      "[5]\ttrain-logloss:0.61423\teval-logloss:0.64820\n",
      "[6]\ttrain-logloss:0.60193\teval-logloss:0.64022\n",
      "[7]\ttrain-logloss:0.59047\teval-logloss:0.63293\n",
      "[8]\ttrain-logloss:0.57924\teval-logloss:0.62762\n",
      "[9]\ttrain-logloss:0.56753\teval-logloss:0.62070\n",
      "[10]\ttrain-logloss:0.55709\teval-logloss:0.61369\n",
      "[11]\ttrain-logloss:0.54679\teval-logloss:0.60789\n",
      "[12]\ttrain-logloss:0.53694\teval-logloss:0.60244\n",
      "[13]\ttrain-logloss:0.52664\teval-logloss:0.59617\n",
      "[14]\ttrain-logloss:0.51665\teval-logloss:0.59018\n",
      "[15]\ttrain-logloss:0.50768\teval-logloss:0.58592\n",
      "[16]\ttrain-logloss:0.49816\teval-logloss:0.58040\n",
      "[17]\ttrain-logloss:0.48967\teval-logloss:0.57639\n",
      "[18]\ttrain-logloss:0.48152\teval-logloss:0.57212\n",
      "[19]\ttrain-logloss:0.47269\teval-logloss:0.56729\n",
      "[20]\ttrain-logloss:0.46486\teval-logloss:0.56358\n",
      "[21]\ttrain-logloss:0.45643\teval-logloss:0.55880\n",
      "[22]\ttrain-logloss:0.44824\teval-logloss:0.55419\n",
      "[23]\ttrain-logloss:0.44028\teval-logloss:0.54977\n",
      "[24]\ttrain-logloss:0.43320\teval-logloss:0.54643\n",
      "[25]\ttrain-logloss:0.42551\teval-logloss:0.54151\n",
      "[26]\ttrain-logloss:0.41813\teval-logloss:0.53914\n",
      "[27]\ttrain-logloss:0.41074\teval-logloss:0.53460\n",
      "[28]\ttrain-logloss:0.40387\teval-logloss:0.53200\n",
      "[29]\ttrain-logloss:0.39697\teval-logloss:0.52835\n",
      "[30]\ttrain-logloss:0.39074\teval-logloss:0.52577\n",
      "[31]\ttrain-logloss:0.38397\teval-logloss:0.52204\n",
      "[32]\ttrain-logloss:0.37772\teval-logloss:0.52007\n",
      "[33]\ttrain-logloss:0.37125\teval-logloss:0.51680\n",
      "[34]\ttrain-logloss:0.36530\teval-logloss:0.51479\n",
      "[35]\ttrain-logloss:0.35918\teval-logloss:0.51217\n",
      "[36]\ttrain-logloss:0.35386\teval-logloss:0.51018\n",
      "[37]\ttrain-logloss:0.34840\teval-logloss:0.50717\n",
      "[38]\ttrain-logloss:0.34240\teval-logloss:0.50444\n",
      "[39]\ttrain-logloss:0.33726\teval-logloss:0.50161\n",
      "[40]\ttrain-logloss:0.33185\teval-logloss:0.50048\n",
      "[41]\ttrain-logloss:0.32683\teval-logloss:0.49830\n",
      "[42]\ttrain-logloss:0.32215\teval-logloss:0.49744\n",
      "[43]\ttrain-logloss:0.31699\teval-logloss:0.49441\n",
      "[44]\ttrain-logloss:0.31233\teval-logloss:0.49121\n",
      "[45]\ttrain-logloss:0.30784\teval-logloss:0.48889\n",
      "[46]\ttrain-logloss:0.30344\teval-logloss:0.48592\n",
      "[47]\ttrain-logloss:0.29914\teval-logloss:0.48443\n",
      "[48]\ttrain-logloss:0.29469\teval-logloss:0.48239\n",
      "[49]\ttrain-logloss:0.29081\teval-logloss:0.48138\n",
      "[50]\ttrain-logloss:0.28611\teval-logloss:0.47895\n",
      "[51]\ttrain-logloss:0.28194\teval-logloss:0.47717\n",
      "[52]\ttrain-logloss:0.27808\teval-logloss:0.47361\n",
      "[53]\ttrain-logloss:0.27403\teval-logloss:0.47145\n",
      "[54]\ttrain-logloss:0.27032\teval-logloss:0.46838\n",
      "[55]\ttrain-logloss:0.26645\teval-logloss:0.46609\n",
      "[56]\ttrain-logloss:0.26292\teval-logloss:0.46412\n",
      "[57]\ttrain-logloss:0.25920\teval-logloss:0.46235\n",
      "[58]\ttrain-logloss:0.25590\teval-logloss:0.46005\n",
      "[59]\ttrain-logloss:0.25253\teval-logloss:0.45765\n",
      "[60]\ttrain-logloss:0.24963\teval-logloss:0.45634\n",
      "[61]\ttrain-logloss:0.24615\teval-logloss:0.45468\n",
      "[62]\ttrain-logloss:0.24294\teval-logloss:0.45295\n",
      "[63]\ttrain-logloss:0.24024\teval-logloss:0.45227\n",
      "[64]\ttrain-logloss:0.23743\teval-logloss:0.45062\n",
      "[65]\ttrain-logloss:0.23421\teval-logloss:0.45019\n",
      "[66]\ttrain-logloss:0.23058\teval-logloss:0.44869\n",
      "[67]\ttrain-logloss:0.22750\teval-logloss:0.44826\n",
      "[68]\ttrain-logloss:0.22405\teval-logloss:0.44514\n",
      "[69]\ttrain-logloss:0.22124\teval-logloss:0.44395\n",
      "[70]\ttrain-logloss:0.21830\teval-logloss:0.44371\n",
      "[71]\ttrain-logloss:0.21582\teval-logloss:0.44177\n",
      "[72]\ttrain-logloss:0.21270\teval-logloss:0.44055\n",
      "[73]\ttrain-logloss:0.20953\teval-logloss:0.44007\n",
      "[74]\ttrain-logloss:0.20648\teval-logloss:0.43800\n",
      "[75]\ttrain-logloss:0.20344\teval-logloss:0.43531\n",
      "[76]\ttrain-logloss:0.20056\teval-logloss:0.43418\n",
      "[77]\ttrain-logloss:0.19774\teval-logloss:0.43313\n",
      "[78]\ttrain-logloss:0.19492\teval-logloss:0.43090\n",
      "[79]\ttrain-logloss:0.19273\teval-logloss:0.42934\n",
      "[80]\ttrain-logloss:0.18997\teval-logloss:0.42741\n",
      "[81]\ttrain-logloss:0.18736\teval-logloss:0.42649\n",
      "[82]\ttrain-logloss:0.18518\teval-logloss:0.42456\n",
      "[83]\ttrain-logloss:0.18320\teval-logloss:0.42346\n",
      "[84]\ttrain-logloss:0.18072\teval-logloss:0.42262\n",
      "[85]\ttrain-logloss:0.17816\teval-logloss:0.42114\n",
      "[86]\ttrain-logloss:0.17614\teval-logloss:0.41932\n",
      "[87]\ttrain-logloss:0.17379\teval-logloss:0.41863\n",
      "[88]\ttrain-logloss:0.17197\teval-logloss:0.41760\n",
      "[89]\ttrain-logloss:0.16971\teval-logloss:0.41729\n",
      "[90]\ttrain-logloss:0.16738\teval-logloss:0.41604\n",
      "[91]\ttrain-logloss:0.16526\teval-logloss:0.41602\n",
      "[92]\ttrain-logloss:0.16342\teval-logloss:0.41409\n",
      "[93]\ttrain-logloss:0.16114\teval-logloss:0.41236\n",
      "[94]\ttrain-logloss:0.15943\teval-logloss:0.41178\n",
      "[95]\ttrain-logloss:0.15796\teval-logloss:0.40999\n",
      "[96]\ttrain-logloss:0.15578\teval-logloss:0.40860\n",
      "[97]\ttrain-logloss:0.15418\teval-logloss:0.40834\n",
      "[98]\ttrain-logloss:0.15210\teval-logloss:0.40697\n",
      "[99]\ttrain-logloss:0.15015\teval-logloss:0.40585\n",
      "[100]\ttrain-logloss:0.14873\teval-logloss:0.40433\n",
      "[101]\ttrain-logloss:0.14675\teval-logloss:0.40283\n",
      "[102]\ttrain-logloss:0.14501\teval-logloss:0.40195\n",
      "[103]\ttrain-logloss:0.14357\teval-logloss:0.40184\n",
      "[104]\ttrain-logloss:0.14192\teval-logloss:0.40066\n",
      "[105]\ttrain-logloss:0.14006\teval-logloss:0.39946\n",
      "[106]\ttrain-logloss:0.13849\teval-logloss:0.39839\n",
      "[107]\ttrain-logloss:0.13690\teval-logloss:0.39754\n",
      "[108]\ttrain-logloss:0.13513\teval-logloss:0.39620\n",
      "[109]\ttrain-logloss:0.13359\teval-logloss:0.39476\n",
      "[110]\ttrain-logloss:0.13217\teval-logloss:0.39322\n",
      "[111]\ttrain-logloss:0.13070\teval-logloss:0.39185\n",
      "[112]\ttrain-logloss:0.12926\teval-logloss:0.39082\n",
      "[113]\ttrain-logloss:0.12764\teval-logloss:0.38979\n",
      "[114]\ttrain-logloss:0.12631\teval-logloss:0.38834\n",
      "[115]\ttrain-logloss:0.12507\teval-logloss:0.38784\n",
      "[116]\ttrain-logloss:0.12388\teval-logloss:0.38764\n",
      "[117]\ttrain-logloss:0.12261\teval-logloss:0.38625\n",
      "[118]\ttrain-logloss:0.12145\teval-logloss:0.38582\n",
      "[119]\ttrain-logloss:0.12016\teval-logloss:0.38493\n",
      "[120]\ttrain-logloss:0.11871\teval-logloss:0.38530\n",
      "[121]\ttrain-logloss:0.11753\teval-logloss:0.38389\n",
      "[122]\ttrain-logloss:0.11606\teval-logloss:0.38238\n",
      "[123]\ttrain-logloss:0.11483\teval-logloss:0.38157\n",
      "[124]\ttrain-logloss:0.11363\teval-logloss:0.38078\n",
      "[125]\ttrain-logloss:0.11227\teval-logloss:0.37940\n",
      "[126]\ttrain-logloss:0.11112\teval-logloss:0.37862\n",
      "[127]\ttrain-logloss:0.10983\teval-logloss:0.37809\n",
      "[128]\ttrain-logloss:0.10862\teval-logloss:0.37769\n",
      "[129]\ttrain-logloss:0.10751\teval-logloss:0.37653\n",
      "[130]\ttrain-logloss:0.10638\teval-logloss:0.37612\n",
      "[131]\ttrain-logloss:0.10531\teval-logloss:0.37452\n",
      "[132]\ttrain-logloss:0.10439\teval-logloss:0.37401\n",
      "[133]\ttrain-logloss:0.10334\teval-logloss:0.37270\n",
      "[134]\ttrain-logloss:0.10230\teval-logloss:0.37160\n",
      "[135]\ttrain-logloss:0.10143\teval-logloss:0.37123\n",
      "[136]\ttrain-logloss:0.10035\teval-logloss:0.37026\n",
      "[137]\ttrain-logloss:0.09938\teval-logloss:0.36915\n",
      "[138]\ttrain-logloss:0.09828\teval-logloss:0.36848\n",
      "[139]\ttrain-logloss:0.09735\teval-logloss:0.36836\n",
      "[140]\ttrain-logloss:0.09635\teval-logloss:0.36853\n",
      "[141]\ttrain-logloss:0.09535\teval-logloss:0.36755\n",
      "[142]\ttrain-logloss:0.09435\teval-logloss:0.36737\n",
      "[143]\ttrain-logloss:0.09353\teval-logloss:0.36721\n",
      "[144]\ttrain-logloss:0.09269\teval-logloss:0.36599\n",
      "[145]\ttrain-logloss:0.09170\teval-logloss:0.36565\n",
      "[146]\ttrain-logloss:0.09085\teval-logloss:0.36455\n",
      "[147]\ttrain-logloss:0.09003\teval-logloss:0.36398\n",
      "[148]\ttrain-logloss:0.08925\teval-logloss:0.36355\n",
      "[149]\ttrain-logloss:0.08837\teval-logloss:0.36326\n",
      "[150]\ttrain-logloss:0.08747\teval-logloss:0.36221\n",
      "[151]\ttrain-logloss:0.08678\teval-logloss:0.36208\n",
      "[152]\ttrain-logloss:0.08591\teval-logloss:0.36169\n",
      "[153]\ttrain-logloss:0.08503\teval-logloss:0.36144\n",
      "[154]\ttrain-logloss:0.08428\teval-logloss:0.36053\n",
      "[155]\ttrain-logloss:0.08366\teval-logloss:0.35991\n",
      "[156]\ttrain-logloss:0.08285\teval-logloss:0.35987\n",
      "[157]\ttrain-logloss:0.08212\teval-logloss:0.35948\n",
      "[158]\ttrain-logloss:0.08129\teval-logloss:0.35873\n",
      "[159]\ttrain-logloss:0.08058\teval-logloss:0.35836\n",
      "[160]\ttrain-logloss:0.07989\teval-logloss:0.35830\n",
      "[161]\ttrain-logloss:0.07904\teval-logloss:0.35864\n",
      "[162]\ttrain-logloss:0.07825\teval-logloss:0.35821\n",
      "[163]\ttrain-logloss:0.07758\teval-logloss:0.35785\n",
      "[164]\ttrain-logloss:0.07691\teval-logloss:0.35772\n",
      "[165]\ttrain-logloss:0.07621\teval-logloss:0.35788\n",
      "[166]\ttrain-logloss:0.07559\teval-logloss:0.35749\n",
      "[167]\ttrain-logloss:0.07488\teval-logloss:0.35646\n",
      "[168]\ttrain-logloss:0.07427\teval-logloss:0.35615\n",
      "[169]\ttrain-logloss:0.07355\teval-logloss:0.35586\n",
      "[170]\ttrain-logloss:0.07294\teval-logloss:0.35561\n",
      "[171]\ttrain-logloss:0.07225\teval-logloss:0.35596\n",
      "[172]\ttrain-logloss:0.07161\teval-logloss:0.35571\n",
      "[173]\ttrain-logloss:0.07105\teval-logloss:0.35504\n",
      "[174]\ttrain-logloss:0.07035\teval-logloss:0.35445\n",
      "[175]\ttrain-logloss:0.06983\teval-logloss:0.35382\n",
      "[176]\ttrain-logloss:0.06922\teval-logloss:0.35352\n",
      "[177]\ttrain-logloss:0.06859\teval-logloss:0.35306\n",
      "[178]\ttrain-logloss:0.06800\teval-logloss:0.35241\n",
      "[179]\ttrain-logloss:0.06741\teval-logloss:0.35219\n",
      "[180]\ttrain-logloss:0.06682\teval-logloss:0.35240\n",
      "[181]\ttrain-logloss:0.06629\teval-logloss:0.35160\n",
      "[182]\ttrain-logloss:0.06574\teval-logloss:0.35142\n",
      "[183]\ttrain-logloss:0.06516\teval-logloss:0.35091\n",
      "[184]\ttrain-logloss:0.06468\teval-logloss:0.35065\n",
      "[185]\ttrain-logloss:0.06424\teval-logloss:0.34990\n",
      "[186]\ttrain-logloss:0.06370\teval-logloss:0.35009\n",
      "[187]\ttrain-logloss:0.06321\teval-logloss:0.34961\n",
      "[188]\ttrain-logloss:0.06270\teval-logloss:0.34953\n",
      "[189]\ttrain-logloss:0.06224\teval-logloss:0.34903\n",
      "[190]\ttrain-logloss:0.06181\teval-logloss:0.34887\n",
      "[191]\ttrain-logloss:0.06131\teval-logloss:0.34930\n",
      "[192]\ttrain-logloss:0.06078\teval-logloss:0.34976\n",
      "[193]\ttrain-logloss:0.06029\teval-logloss:0.35020\n",
      "[194]\ttrain-logloss:0.05983\teval-logloss:0.34968\n",
      "[195]\ttrain-logloss:0.05938\teval-logloss:0.34895\n",
      "[196]\ttrain-logloss:0.05887\teval-logloss:0.34894\n",
      "[197]\ttrain-logloss:0.05843\teval-logloss:0.34868\n",
      "[198]\ttrain-logloss:0.05798\teval-logloss:0.34918\n",
      "[199]\ttrain-logloss:0.05757\teval-logloss:0.34883\n",
      "[200]\ttrain-logloss:0.05711\teval-logloss:0.34805\n",
      "[201]\ttrain-logloss:0.05675\teval-logloss:0.34771\n",
      "[202]\ttrain-logloss:0.05628\teval-logloss:0.34776\n",
      "[203]\ttrain-logloss:0.05587\teval-logloss:0.34752\n",
      "[204]\ttrain-logloss:0.05547\teval-logloss:0.34672\n",
      "[205]\ttrain-logloss:0.05506\teval-logloss:0.34688\n",
      "[206]\ttrain-logloss:0.05467\teval-logloss:0.34585\n",
      "[207]\ttrain-logloss:0.05423\teval-logloss:0.34582\n",
      "[208]\ttrain-logloss:0.05384\teval-logloss:0.34567\n",
      "[209]\ttrain-logloss:0.05344\teval-logloss:0.34538\n",
      "[210]\ttrain-logloss:0.05314\teval-logloss:0.34516\n",
      "[211]\ttrain-logloss:0.05277\teval-logloss:0.34529\n",
      "[212]\ttrain-logloss:0.05240\teval-logloss:0.34434\n",
      "[213]\ttrain-logloss:0.05198\teval-logloss:0.34429\n",
      "[214]\ttrain-logloss:0.05170\teval-logloss:0.34421\n",
      "[215]\ttrain-logloss:0.05135\teval-logloss:0.34406\n",
      "[216]\ttrain-logloss:0.05113\teval-logloss:0.34399\n",
      "[217]\ttrain-logloss:0.05078\teval-logloss:0.34309\n",
      "[218]\ttrain-logloss:0.05046\teval-logloss:0.34268\n",
      "[219]\ttrain-logloss:0.05008\teval-logloss:0.34264\n",
      "[220]\ttrain-logloss:0.04975\teval-logloss:0.34203\n",
      "[221]\ttrain-logloss:0.04944\teval-logloss:0.34145\n",
      "[222]\ttrain-logloss:0.04912\teval-logloss:0.34064\n",
      "[223]\ttrain-logloss:0.04875\teval-logloss:0.34063\n",
      "[224]\ttrain-logloss:0.04841\teval-logloss:0.34075\n",
      "[225]\ttrain-logloss:0.04821\teval-logloss:0.34111\n",
      "[226]\ttrain-logloss:0.04789\teval-logloss:0.34113\n",
      "[227]\ttrain-logloss:0.04771\teval-logloss:0.34083\n",
      "[228]\ttrain-logloss:0.04738\teval-logloss:0.34072\n",
      "[229]\ttrain-logloss:0.04712\teval-logloss:0.34035\n",
      "[230]\ttrain-logloss:0.04682\teval-logloss:0.33958\n",
      "[231]\ttrain-logloss:0.04651\teval-logloss:0.33840\n",
      "[232]\ttrain-logloss:0.04633\teval-logloss:0.33836\n",
      "[233]\ttrain-logloss:0.04603\teval-logloss:0.33830\n",
      "[234]\ttrain-logloss:0.04585\teval-logloss:0.33866\n",
      "[235]\ttrain-logloss:0.04560\teval-logloss:0.33784\n",
      "[236]\ttrain-logloss:0.04528\teval-logloss:0.33730\n",
      "[237]\ttrain-logloss:0.04503\teval-logloss:0.33706\n",
      "[238]\ttrain-logloss:0.04474\teval-logloss:0.33631\n",
      "[239]\ttrain-logloss:0.04449\teval-logloss:0.33652\n",
      "[240]\ttrain-logloss:0.04426\teval-logloss:0.33574\n",
      "[241]\ttrain-logloss:0.04400\teval-logloss:0.33574\n",
      "[242]\ttrain-logloss:0.04373\teval-logloss:0.33502\n",
      "[243]\ttrain-logloss:0.04350\teval-logloss:0.33508\n",
      "[244]\ttrain-logloss:0.04324\teval-logloss:0.33470\n",
      "[245]\ttrain-logloss:0.04298\teval-logloss:0.33498\n",
      "[246]\ttrain-logloss:0.04276\teval-logloss:0.33421\n",
      "[247]\ttrain-logloss:0.04257\teval-logloss:0.33437\n",
      "[248]\ttrain-logloss:0.04236\teval-logloss:0.33376\n",
      "[249]\ttrain-logloss:0.04211\teval-logloss:0.33334\n",
      "[250]\ttrain-logloss:0.04188\teval-logloss:0.33376\n",
      "[251]\ttrain-logloss:0.04174\teval-logloss:0.33356\n",
      "[252]\ttrain-logloss:0.04154\teval-logloss:0.33282\n",
      "[253]\ttrain-logloss:0.04132\teval-logloss:0.33300\n",
      "[254]\ttrain-logloss:0.04105\teval-logloss:0.33263\n",
      "[255]\ttrain-logloss:0.04085\teval-logloss:0.33192\n",
      "[256]\ttrain-logloss:0.04071\teval-logloss:0.33170\n",
      "[257]\ttrain-logloss:0.04047\teval-logloss:0.33111\n",
      "[258]\ttrain-logloss:0.04021\teval-logloss:0.33077\n",
      "[259]\ttrain-logloss:0.03999\teval-logloss:0.32988\n",
      "[260]\ttrain-logloss:0.03977\teval-logloss:0.33030\n",
      "[261]\ttrain-logloss:0.03957\teval-logloss:0.33036\n",
      "[262]\ttrain-logloss:0.03940\teval-logloss:0.33052\n",
      "[263]\ttrain-logloss:0.03915\teval-logloss:0.33020\n",
      "[264]\ttrain-logloss:0.03898\teval-logloss:0.33078\n",
      "[265]\ttrain-logloss:0.03877\teval-logloss:0.33120\n",
      "[266]\ttrain-logloss:0.03857\teval-logloss:0.33073\n",
      "[267]\ttrain-logloss:0.03841\teval-logloss:0.33104\n",
      "[268]\ttrain-logloss:0.03822\teval-logloss:0.32967\n",
      "[269]\ttrain-logloss:0.03801\teval-logloss:0.32906\n",
      "[270]\ttrain-logloss:0.03784\teval-logloss:0.32890\n",
      "[271]\ttrain-logloss:0.03761\teval-logloss:0.32861\n",
      "[272]\ttrain-logloss:0.03742\teval-logloss:0.32838\n",
      "[273]\ttrain-logloss:0.03724\teval-logloss:0.32836\n",
      "[274]\ttrain-logloss:0.03706\teval-logloss:0.32703\n",
      "[275]\ttrain-logloss:0.03692\teval-logloss:0.32735\n",
      "[276]\ttrain-logloss:0.03671\teval-logloss:0.32678\n",
      "[277]\ttrain-logloss:0.03654\teval-logloss:0.32640\n",
      "[278]\ttrain-logloss:0.03635\teval-logloss:0.32575\n",
      "[279]\ttrain-logloss:0.03620\teval-logloss:0.32560\n",
      "[280]\ttrain-logloss:0.03604\teval-logloss:0.32564\n",
      "[281]\ttrain-logloss:0.03583\teval-logloss:0.32537\n",
      "[282]\ttrain-logloss:0.03567\teval-logloss:0.32546\n",
      "[283]\ttrain-logloss:0.03553\teval-logloss:0.32609\n",
      "[284]\ttrain-logloss:0.03537\teval-logloss:0.32529\n",
      "[285]\ttrain-logloss:0.03521\teval-logloss:0.32510\n",
      "[286]\ttrain-logloss:0.03505\teval-logloss:0.32489\n",
      "[287]\ttrain-logloss:0.03487\teval-logloss:0.32484\n",
      "[288]\ttrain-logloss:0.03472\teval-logloss:0.32465\n",
      "[289]\ttrain-logloss:0.03457\teval-logloss:0.32491\n",
      "[290]\ttrain-logloss:0.03444\teval-logloss:0.32479\n",
      "[291]\ttrain-logloss:0.03430\teval-logloss:0.32461\n",
      "[292]\ttrain-logloss:0.03418\teval-logloss:0.32488\n",
      "[293]\ttrain-logloss:0.03401\teval-logloss:0.32487\n",
      "[294]\ttrain-logloss:0.03392\teval-logloss:0.32459\n",
      "[295]\ttrain-logloss:0.03377\teval-logloss:0.32469\n",
      "[296]\ttrain-logloss:0.03362\teval-logloss:0.32379\n",
      "[297]\ttrain-logloss:0.03349\teval-logloss:0.32362\n",
      "[298]\ttrain-logloss:0.03333\teval-logloss:0.32383\n",
      "[299]\ttrain-logloss:0.03319\teval-logloss:0.32366\n",
      "[300]\ttrain-logloss:0.03305\teval-logloss:0.32340\n",
      "[301]\ttrain-logloss:0.03290\teval-logloss:0.32322\n",
      "[302]\ttrain-logloss:0.03278\teval-logloss:0.32329\n",
      "[303]\ttrain-logloss:0.03263\teval-logloss:0.32277\n",
      "[304]\ttrain-logloss:0.03252\teval-logloss:0.32289\n",
      "[305]\ttrain-logloss:0.03238\teval-logloss:0.32276\n",
      "[306]\ttrain-logloss:0.03228\teval-logloss:0.32256\n",
      "[307]\ttrain-logloss:0.03212\teval-logloss:0.32281\n",
      "[308]\ttrain-logloss:0.03201\teval-logloss:0.32213\n",
      "[309]\ttrain-logloss:0.03189\teval-logloss:0.32201\n",
      "[310]\ttrain-logloss:0.03175\teval-logloss:0.32249\n",
      "[311]\ttrain-logloss:0.03162\teval-logloss:0.32224\n",
      "[312]\ttrain-logloss:0.03148\teval-logloss:0.32175\n",
      "[313]\ttrain-logloss:0.03134\teval-logloss:0.32223\n",
      "[314]\ttrain-logloss:0.03120\teval-logloss:0.32196\n",
      "[315]\ttrain-logloss:0.03108\teval-logloss:0.32194\n",
      "[316]\ttrain-logloss:0.03098\teval-logloss:0.32181\n",
      "[317]\ttrain-logloss:0.03089\teval-logloss:0.32159\n",
      "[318]\ttrain-logloss:0.03079\teval-logloss:0.32131\n",
      "[319]\ttrain-logloss:0.03066\teval-logloss:0.32179\n",
      "[320]\ttrain-logloss:0.03052\teval-logloss:0.32154\n",
      "[321]\ttrain-logloss:0.03042\teval-logloss:0.32141\n",
      "[322]\ttrain-logloss:0.03034\teval-logloss:0.32120\n",
      "[323]\ttrain-logloss:0.03019\teval-logloss:0.32156\n",
      "[324]\ttrain-logloss:0.03008\teval-logloss:0.32165\n",
      "[325]\ttrain-logloss:0.02996\teval-logloss:0.32100\n",
      "[326]\ttrain-logloss:0.02985\teval-logloss:0.32148\n",
      "[327]\ttrain-logloss:0.02973\teval-logloss:0.32124\n",
      "[328]\ttrain-logloss:0.02964\teval-logloss:0.32091\n",
      "[329]\ttrain-logloss:0.02955\teval-logloss:0.32065\n",
      "[330]\ttrain-logloss:0.02942\teval-logloss:0.32010\n",
      "[331]\ttrain-logloss:0.02932\teval-logloss:0.32020\n",
      "[332]\ttrain-logloss:0.02920\teval-logloss:0.32020\n",
      "[333]\ttrain-logloss:0.02910\teval-logloss:0.32042\n",
      "[334]\ttrain-logloss:0.02896\teval-logloss:0.32079\n",
      "[335]\ttrain-logloss:0.02885\teval-logloss:0.32131\n",
      "[336]\ttrain-logloss:0.02874\teval-logloss:0.32149\n",
      "[337]\ttrain-logloss:0.02863\teval-logloss:0.32108\n",
      "[338]\ttrain-logloss:0.02852\teval-logloss:0.32088\n",
      "[339]\ttrain-logloss:0.02841\teval-logloss:0.32089\n",
      "[340]\ttrain-logloss:0.02831\teval-logloss:0.32081\n",
      "[341]\ttrain-logloss:0.02825\teval-logloss:0.32081\n",
      "[342]\ttrain-logloss:0.02816\teval-logloss:0.32096\n",
      "[343]\ttrain-logloss:0.02807\teval-logloss:0.32118\n",
      "[344]\ttrain-logloss:0.02798\teval-logloss:0.32124\n",
      "[345]\ttrain-logloss:0.02787\teval-logloss:0.32085\n",
      "0.1\n",
      "(0.6206896551724138, 0.8780487804878049, 0.7272727272727273, None)\n"
     ]
    },
    {
     "data": {
      "image/png": "[encoded data removed]",
      "text/plain": [
       "<Figure size 432x288 with 2 Axes>"
      ]
     },
     "metadata": {
      "needs_background": "light"
     },
     "output_type": "display_data"
    },
    {
     "name": "stdout",
     "output_type": "stream",
     "text": [
      "0.18\n",
      "(0.6530612244897959, 0.7804878048780488, 0.711111111111111, None)\n"
     ]
    },
    {
     "data": {
      "image/png": "[encoded data removed]",
      "text/plain": [
       "<Figure size 432x288 with 2 Axes>"
      ]
     },
     "metadata": {
      "needs_background": "light"
     },
     "output_type": "display_data"
    },
    {
     "name": "stdout",
     "output_type": "stream",
     "text": [
      "0.26\n",
      "(0.7142857142857143, 0.7317073170731707, 0.7228915662650603, None)\n"
     ]
    },
    {
     "data": {
      "image/png": "[encoded data removed]",
      "text/plain": [
       "<Figure size 432x288 with 2 Axes>"
      ]
     },
     "metadata": {
      "needs_background": "light"
     },
     "output_type": "display_data"
    },
    {
     "name": "stdout",
     "output_type": "stream",
     "text": [
      "0.34\n",
      "(0.7368421052631579, 0.6829268292682927, 0.7088607594936709, None)\n"
     ]
    },
    {
     "data": {
      "image/png": "[encoded data removed]",
      "text/plain": [
       "<Figure size 432x288 with 2 Axes>"
      ]
     },
     "metadata": {
      "needs_background": "light"
     },
     "output_type": "display_data"
    },
    {
     "name": "stdout",
     "output_type": "stream",
     "text": [
      "0.42\n",
      "(0.7777777777777778, 0.6829268292682927, 0.7272727272727273, None)\n"
     ]
    },
    {
     "data": {
      "image/png": "[encoded data removed]",
      "text/plain": [
       "<Figure size 432x288 with 2 Axes>"
      ]
     },
     "metadata": {
      "needs_background": "light"
     },
     "output_type": "display_data"
    },
    {
     "name": "stdout",
     "output_type": "stream",
     "text": [
      "0.5\n",
      "(0.7647058823529411, 0.6341463414634146, 0.6933333333333332, None)\n"
     ]
    },
    {
     "data": {
      "image/png": "[encoded data removed]",
      "text/plain": [
       "<Figure size 432x288 with 2 Axes>"
      ]
     },
     "metadata": {
      "needs_background": "light"
     },
     "output_type": "display_data"
    },
    {
     "name": "stdout",
     "output_type": "stream",
     "text": [
      "0.58\n",
      "(0.7741935483870968, 0.5853658536585366, 0.6666666666666666, None)\n"
     ]
    },
    {
     "data": {
      "image/png": "[encoded data removed]",
      "text/plain": [
       "<Figure size 432x288 with 2 Axes>"
      ]
     },
     "metadata": {
      "needs_background": "light"
     },
     "output_type": "display_data"
    },
    {
     "name": "stdout",
     "output_type": "stream",
     "text": [
      "0.66\n",
      "(0.8518518518518519, 0.5609756097560976, 0.6764705882352942, None)\n"
     ]
    },
    {
     "data": {
      "image/png": "[encoded data removed]",
      "text/plain": [
       "<Figure size 432x288 with 2 Axes>"
      ]
     },
     "metadata": {
      "needs_background": "light"
     },
     "output_type": "display_data"
    },
    {
     "name": "stdout",
     "output_type": "stream",
     "text": [
      "0.74\n",
      "(0.88, 0.5365853658536586, 0.6666666666666667, None)\n"
     ]
    },
    {
     "data": {
      "image/png": "[encoded data removed]",
      "text/plain": [
       "<Figure size 432x288 with 2 Axes>"
      ]
     },
     "metadata": {
      "needs_background": "light"
     },
     "output_type": "display_data"
    },
    {
     "name": "stdout",
     "output_type": "stream",
     "text": [
      "0.82\n",
      "(0.875, 0.5121951219512195, 0.6461538461538462, None)\n"
     ]
    },
    {
     "data": {
      "image/png": "[encoded data removed]",
      "text/plain": [
       "<Figure size 432x288 with 2 Axes>"
      ]
     },
     "metadata": {
      "needs_background": "light"
     },
     "output_type": "display_data"
    }
   ],
   "source": [
    "safety_clf_w_claims = train_model(X_train, X_val, y_train, y_val, verbosity=1)\n",
    "dtest = xgb.DMatrix(X_test)\n",
    "y_pred = safety_clf_w_claims.predict(dtest)\n",
    "plot_performance_at_t(y_true, y_pred, 10)"
   ]
  },
  {
   "cell_type": "code",
   "execution_count": 56,
   "id": "3b67b789-e405-4cf2-868f-51b0941fc91f",
   "metadata": {},
   "outputs": [
    {
     "data": {
      "text/plain": [
       "505"
      ]
     },
     "execution_count": 56,
     "metadata": {},
     "output_type": "execute_result"
    }
   ],
   "source": [
    "training_ids = set(training_df.pat_num)\n",
    "len(training_ids)"
   ]
  },
  {
   "cell_type": "code",
   "execution_count": 57,
   "id": "b4ecff69-90db-4bf7-bbb6-83d7b96f4010",
   "metadata": {},
   "outputs": [
    {
     "name": "stdout",
     "output_type": "stream",
     "text": [
      "(6578, 15)\n",
      "(6073, 15)\n"
     ]
    }
   ],
   "source": [
    "print(data_df.shape)\n",
    "in_scope_df = data_df[~data_df.pat_num.isin(training_ids)]\n",
    "print(in_scope_df.shape)"
   ]
  },
  {
   "cell_type": "code",
   "execution_count": 58,
   "id": "9c98c40e-46ad-4638-a2c5-b45b9f163872",
   "metadata": {},
   "outputs": [],
   "source": [
    "dtest = xgb.DMatrix(vectorizer.transform(in_scope_df['abs_plus_desc_plus_claims']).toarray())\n",
    "pred_y = portability_clf_w_claims.predict(dtest)\n",
    "in_scope_df['portability_proba'] = pred_y\n",
    "#in_scope_df['portability_pred'] = [1 if y > portability_treshold else 0 for y in pred_y]\n",
    "\n",
    "pred_y = safety_clf_w_claims.predict(dtest)\n",
    "in_scope_df['safety_proba'] = pred_y\n",
    "#in_scope_df['safety_pred'] = [1 if y > safety_treshold else 0 for y in pred_y]"
   ]
  },
  {
   "cell_type": "code",
   "execution_count": 91,
   "id": "c8826f41-a196-428a-af36-7ba54810a569",
   "metadata": {},
   "outputs": [
    {
     "data": {
      "text/plain": [
       "<AxesSubplot:xlabel='portability_proba', ylabel='Density'>"
      ]
     },
     "execution_count": 91,
     "metadata": {},
     "output_type": "execute_result"
    },
    {
     "data": {
      "image/png": "[encoded data removed]",
      "text/plain": [
       "<Figure size 432x288 with 1 Axes>"
      ]
     },
     "metadata": {
      "needs_background": "light"
     },
     "output_type": "display_data"
    }
   ],
   "source": [
    "sb.distplot(in_scope_df['portability_proba'])"
   ]
  },
  {
   "cell_type": "code",
   "execution_count": 114,
   "id": "dd13b22b-7612-4355-aad4-aa3a73856c6e",
   "metadata": {},
   "outputs": [
    {
     "data": {
      "text/plain": [
       "<AxesSubplot:xlabel='safety_proba', ylabel='Density'>"
      ]
     },
     "execution_count": 114,
     "metadata": {},
     "output_type": "execute_result"
    },
    {
     "data": {
      "image/png": "[encoded data removed]",
      "text/plain": [
       "<Figure size 432x288 with 1 Axes>"
      ]
     },
     "metadata": {
      "needs_background": "light"
     },
     "output_type": "display_data"
    }
   ],
   "source": [
    "sb.distplot(in_scope_df['safety_proba'])"
   ]
  },
  {
   "cell_type": "code",
   "execution_count": 94,
   "id": "1d02964b-2866-474b-91fc-eb0362a9a11f",
   "metadata": {},
   "outputs": [],
   "source": [
    "in_scope_df.to_excel('portability_safety_with_probs_6000_patents.xlsx', index=False)"
   ]
  },
  {
   "cell_type": "code",
   "execution_count": null,
   "id": "6d57f995-98f2-4580-8651-d1c91a9f7dd8",
   "metadata": {},
   "outputs": [],
   "source": [
    "import joblib\n",
    "joblib.dump(safety_clf,'clf_safety_jan_18_2023.joblib')\n",
    "joblib.dump(portability_clf,'clf_portability_jan_18_2023.joblib')"
   ]
  },
  {
   "cell_type": "code",
   "execution_count": null,
   "id": "a4f8d9b5-22f1-4ef1-a547-6bf886daa8c4",
   "metadata": {},
   "outputs": [],
   "source": []
  }
 ],
 "metadata": {
  "kernelspec": {
   "display_name": "TensorFlow 2.8.0",
   "language": "python",
   "name": "tensorflow"
  },
  "language_info": {
   "codemirror_mode": {
    "name": "ipython",
    "version": 3
   },
   "file_extension": ".py",
   "mimetype": "text/x-python",
   "name": "python",
   "nbconvert_exporter": "python",
   "pygments_lexer": "ipython3",
   "version": "3.9.7"
  }
 },
 "nbformat": 4,
 "nbformat_minor": 5
}
